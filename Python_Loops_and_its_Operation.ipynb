{
  "nbformat": 4,
  "nbformat_minor": 0,
  "metadata": {
    "colab": {
      "provenance": [],
      "include_colab_link": true
    },
    "kernelspec": {
      "name": "python3",
      "display_name": "Python 3"
    },
    "language_info": {
      "name": "python"
    }
  },
  "cells": [
    {
      "cell_type": "markdown",
      "metadata": {
        "id": "view-in-github",
        "colab_type": "text"
      },
      "source": [
        "<a href=\"https://colab.research.google.com/github/peter-kiilu/python_course/blob/main/Python_Loops_and_its_Operation.ipynb\" target=\"_parent\"><img src=\"https://colab.research.google.com/assets/colab-badge.svg\" alt=\"Open In Colab\"/></a>"
      ]
    },
    {
      "cell_type": "markdown",
      "source": [
        "<div align=\"center\">\n",
        "  <h1> Python for Data Science - Python Looping Statements</h1>\n",
        "  <a class=\"header-badge\" target=\"_blank\" href=\"https://www.linkedin.com/company/martial-school-of-it/\">\n",
        "  <img src=\"https://school.martial.co.ke/wp-content/uploads/2024/07/Logo-1.3-01.png\">\n",
        "\n",
        "<sub>Author:\n",
        "<a href=\"https://www.linkedin.com/in/onyango-eric-otieno-944ba320a/\" target=\"_blank\">Erick Otieno</a><br>\n",
        "<small> Python for Data Science, Jan 2025 Cohort</small>\n",
        "</sub>\n",
        "\n",
        "</div>"
      ],
      "metadata": {
        "id": "0-JpWCpVe7Ou"
      }
    },
    {
      "cell_type": "markdown",
      "source": [
        "## Loops\n",
        "\n",
        "Life is full of routines. In programming we also do lots of repetitive tasks. In order to handle repetitive task programming languages use loops. Python programming language also provides the following types of two loops:\n",
        "\n",
        "1. while loop\n",
        "2. for loop"
      ],
      "metadata": {
        "id": "8gdQrjfjfCnt"
      }
    },
    {
      "cell_type": "code",
      "source": [
        "count = 0\n",
        "while count < 5:\n",
        "    print(count)\n",
        "    count = count + 1\n",
        ""
      ],
      "metadata": {
        "colab": {
          "base_uri": "https://localhost:8080/"
        },
        "id": "7fcMwDh1pbRo",
        "outputId": "df9faa3b-9480-4a1f-9058-90f35302c1d7"
      },
      "execution_count": 1,
      "outputs": [
        {
          "output_type": "stream",
          "name": "stdout",
          "text": [
            "0\n",
            "1\n",
            "2\n",
            "3\n",
            "4\n"
          ]
        }
      ]
    },
    {
      "cell_type": "code",
      "source": [
        "person = {\n",
        "    'first_name':'Asabeneh',\n",
        "    'last_name':'Yetayeh',\n",
        "    'age':250,\n",
        "    'country':'Finland',\n",
        "    'is_marred':True,\n",
        "    'skills':['JavaScript', 'React', 'Node', 'MongoDB', 'Python'],\n",
        "    'address':{\n",
        "        'street':'Space street',\n",
        "        'zipcode':'02210'\n",
        "    }\n",
        "}\n",
        "for key in person:\n",
        "    print(key)\n",
        "\n",
        "for key, value in person.items():\n",
        "    print(key, value) # this way we get both keys and values printed out"
      ],
      "metadata": {
        "colab": {
          "base_uri": "https://localhost:8080/"
        },
        "id": "C-LIB1_Npmn6",
        "outputId": "bf18d780-5d86-4b82-e466-8a573f4ec326"
      },
      "execution_count": 32,
      "outputs": [
        {
          "output_type": "stream",
          "name": "stdout",
          "text": [
            "first_name\n",
            "last_name\n",
            "age\n",
            "country\n",
            "is_marred\n",
            "skills\n",
            "address\n",
            "first_name Asabeneh\n",
            "last_name Yetayeh\n",
            "age 250\n",
            "country Finland\n",
            "is_marred True\n",
            "skills ['JavaScript', 'React', 'Node', 'MongoDB', 'Python']\n",
            "address {'street': 'Space street', 'zipcode': '02210'}\n"
          ]
        }
      ]
    },
    {
      "cell_type": "markdown",
      "source": [],
      "metadata": {
        "id": "SjObzHlupt9C"
      }
    },
    {
      "cell_type": "markdown",
      "source": [
        "### While Loop\n",
        "\n",
        "We use the reserved word _while_ to make a while loop. It is used to execute a block of statements repeatedly until a given condition is satisfied. When the condition becomes True, the lines of code after the loop will be continued to be executed.\n",
        "\n",
        "```py\n",
        "  # syntax\n",
        "while condition:\n",
        "    code goes here\n",
        "```\n",
        "\n",
        "**Example:**\n",
        "\n",
        "```py\n",
        "count = 0\n",
        "while count < 5:\n",
        "    print(count)\n",
        "    count = count + 1\n",
        "#prints from 0 to 4\n",
        "```\n",
        "\n",
        "In the above while loop, the condition becomes false when count is 5. That is when the loop stops.\n",
        "If we are interested to run block of code once the condition is no longer true, we can use _else_.\n",
        "\n",
        "```py\n",
        "  # syntax\n",
        "while condition:\n",
        "    code goes here\n",
        "else:\n",
        "    code goes here\n",
        "```\n",
        "\n",
        "**Example:**\n",
        "\n",
        "```py\n",
        "count = 0\n",
        "while count < 5:\n",
        "    print(count)\n",
        "    count = count + 1\n",
        "else:\n",
        "    print(count)\n",
        "```\n",
        "\n",
        "The above loop condition will be false when count is 5 and the loop stops, and execution starts the else statement. As a result 5 will be printed."
      ],
      "metadata": {
        "id": "2nI1VtV2fK3V"
      }
    },
    {
      "cell_type": "markdown",
      "source": [
        "\n",
        "### Break and Continue - Part 1\n",
        "\n",
        "- Break: We use break when we like to get out of or stop the loop.\n",
        "\n",
        "```py\n",
        "# syntax\n",
        "while condition:\n",
        "    code goes here\n",
        "    if another_condition:\n",
        "        break\n",
        "```\n",
        "\n",
        "**Example:**\n",
        "\n",
        "```py\n",
        "count = 0\n",
        "while count < 5:\n",
        "    print(count)\n",
        "    count = count + 1\n",
        "    if count == 3:\n",
        "        break\n",
        "```\n",
        "\n",
        "The above while loop only prints 0, 1, 2, but when it reaches 3 it stops.\n",
        "\n",
        "- Continue: With the continue statement we can skip the current iteration, and continue with the next:\n",
        "\n",
        "```py\n",
        "  # syntax\n",
        "while condition:\n",
        "    code goes here\n",
        "    if another_condition:\n",
        "        continue\n",
        "```\n",
        "\n",
        "**Example:**\n",
        "\n",
        "```py\n",
        "count = 0\n",
        "while count < 5:\n",
        "    if count == 3:\n",
        "        count = count + 1\n",
        "        continue\n",
        "    print(count)\n",
        "    count = count + 1\n",
        "```\n",
        "\n",
        "The above while loop only prints 0, 1, 2 and 4 (skips 3)."
      ],
      "metadata": {
        "id": "4JsERUFBfqgO"
      }
    },
    {
      "cell_type": "markdown",
      "source": [
        "### For Loop\n",
        "\n",
        "A _for_ keyword is used to make a for loop, similar with other programming languages, but with some syntax differences. Loop is used for iterating over a sequence (that is either a list, a tuple, a dictionary, a set, or a string).\n",
        "\n",
        "- For loop with list\n",
        "\n",
        "```py\n",
        "# syntax\n",
        "for iterator in lst:\n",
        "    code goes here\n",
        "```\n",
        "\n",
        "**Example:**\n",
        "\n",
        "```py\n",
        "numbers = [0, 1, 2, 3, 4, 5]\n",
        "for number in numbers: # number is temporary name to refer to the list's items, valid only inside this loop\n",
        "    print(number)       # the numbers will be printed line by line, from 0 to 5\n",
        "```\n",
        "\n",
        "- For loop with string\n",
        "\n",
        "```py\n",
        "# syntax\n",
        "for iterator in string:\n",
        "    code goes here\n",
        "```\n",
        "\n",
        "**Example:**\n",
        "\n",
        "```py\n",
        "language = 'Python'\n",
        "for letter in language:\n",
        "    print(letter)\n",
        "\n",
        "\n",
        "for i in range(len(language)):\n",
        "    print(language[i])\n",
        "```\n",
        "\n",
        "- For loop with tuple\n",
        "\n",
        "```py\n",
        "# syntax\n",
        "for iterator in tpl:\n",
        "    code goes here\n",
        "```\n",
        "\n",
        "**Example:**\n",
        "\n",
        "```py\n",
        "numbers = (0, 1, 2, 3, 4, 5)\n",
        "for number in numbers:\n",
        "    print(number)\n",
        "```\n",
        "\n",
        "- For loop with dictionary\n",
        "  Looping through a dictionary gives you the key of the dictionary.\n",
        "\n",
        "```py\n",
        "  # syntax\n",
        "for iterator in dct:\n",
        "    code goes here\n",
        "```\n",
        "\n",
        "**Example:**\n",
        "\n",
        "```py\n",
        "person = {\n",
        "    'first_name':'Asabeneh',\n",
        "    'last_name':'Yetayeh',\n",
        "    'age':250,\n",
        "    'country':'Finland',\n",
        "    'is_marred':True,\n",
        "    'skills':['JavaScript', 'React', 'Node', 'MongoDB', 'Python'],\n",
        "    'address':{\n",
        "        'street':'Space street',\n",
        "        'zipcode':'02210'\n",
        "    }\n",
        "}\n",
        "for key in person:\n",
        "    print(key)\n",
        "\n",
        "for key, value in person.items():\n",
        "    print(key, value) # this way we get both keys and values printed out\n",
        "```\n",
        "\n",
        "- Loops in set\n",
        "\n",
        "```py\n",
        "# syntax\n",
        "for iterator in st:\n",
        "    code goes here\n",
        "```\n",
        "\n",
        "**Example:**\n",
        "\n",
        "```py\n",
        "it_companies = {'Facebook', 'Google', 'Microsoft', 'Apple', 'IBM', 'Oracle', 'Amazon'}\n",
        "for company in it_companies:\n",
        "    print(company)\n",
        "```"
      ],
      "metadata": {
        "id": "fyu1Ert-gBmt"
      }
    },
    {
      "cell_type": "markdown",
      "source": [
        "### Break and Continue - Part 2\n",
        "\n",
        "Short reminder:\n",
        "_Break_: We use break when we like to stop our loop before it is completed.\n",
        "\n",
        "```py\n",
        "# syntax\n",
        "for iterator in sequence:\n",
        "    code goes here\n",
        "    if condition:\n",
        "        break\n",
        "```\n",
        "\n",
        "**Example:**\n",
        "\n",
        "```py\n",
        "numbers = (0,1,2,3,4,5)\n",
        "for number in numbers:\n",
        "    print(number)\n",
        "    if number == 3:\n",
        "        break\n",
        "```\n",
        "\n",
        "In the above example, the loop stops when it reaches 3.\n",
        "\n",
        "Continue: We use continue when we like to skip some of the steps in the iteration of the loop.\n",
        "\n",
        "```py\n",
        "  # syntax\n",
        "for iterator in sequence:\n",
        "    code goes here\n",
        "    if condition:\n",
        "        continue\n",
        "```\n",
        "\n",
        "**Example:**\n",
        "\n",
        "```py\n",
        "numbers = (0,1,2,3,4,5)\n",
        "for number in numbers:\n",
        "    print(number)\n",
        "    if number == 3:\n",
        "        continue\n",
        "    print('Next number should be ', number + 1) if number != 5 else print(\"loop's end\") # for short hand conditions need both if and else statements\n",
        "print('outside the loop')\n",
        "```\n",
        "\n",
        "In the example above, if the number equals 3, the step *after* the condition (but inside the loop) is skipped and the execution of the loop continues if there are any iterations left."
      ],
      "metadata": {
        "id": "PkZK4Z-4gPT9"
      }
    },
    {
      "cell_type": "markdown",
      "source": [
        "### The Range Function\n",
        "\n",
        "The _range()_ function is used list of numbers. The _range(start, end, step)_ takes three parameters: starting, ending and increment. By default it starts from 0 and the increment is 1. The range sequence needs at least 1 argument (end).\n",
        "Creating sequences using range\n",
        "\n",
        "```py\n",
        "lst = list(range(11))\n",
        "print(lst) # [0, 1, 2, 3, 4, 5, 6, 7, 8, 9, 10]\n",
        "st = set(range(1, 11))    # 2 arguments indicate start and end of the sequence, step set to default 1\n",
        "print(st) # {1, 2, 3, 4, 5, 6, 7, 8, 9, 10}\n",
        "\n",
        "lst = list(range(0,11,2))\n",
        "print(lst) # [0, 2, 4, 6, 8, 10]\n",
        "st = set(range(0,11,2))\n",
        "print(st) #  {0, 2, 4, 6, 8, 10}\n",
        "```\n",
        "\n",
        "```py\n",
        "# syntax\n",
        "for iterator in range(start, end, step):\n",
        "```\n",
        "\n",
        "**Example:**\n",
        "\n",
        "```py\n",
        "for number in range(11):\n",
        "    print(number)   # prints 0 to 10, not including 11\n",
        "```"
      ],
      "metadata": {
        "id": "iQdl34ENgbTN"
      }
    },
    {
      "cell_type": "markdown",
      "source": [
        "### Nested For Loop\n",
        "\n",
        "We can write loops inside a loop.\n",
        "\n",
        "```py\n",
        "# syntax\n",
        "for x in y:\n",
        "    for t in x:\n",
        "        print(t)\n",
        "```\n",
        "\n",
        "**Example:**\n",
        "\n",
        "```py\n",
        "person = {\n",
        "    'first_name': 'Asabeneh',\n",
        "    'last_name': 'Yetayeh',\n",
        "    'age': 250,\n",
        "    'country': 'Finland',\n",
        "    'is_marred': True,\n",
        "    'skills': ['JavaScript', 'React', 'Node', 'MongoDB', 'Python'],\n",
        "    'address': {\n",
        "        'street': 'Space street',\n",
        "        'zipcode': '02210'\n",
        "    }\n",
        "}\n",
        "for key in person:\n",
        "    if key == 'skills':\n",
        "        for skill in person['skills']:\n",
        "            print(skill)\n",
        "```"
      ],
      "metadata": {
        "id": "zQ7HpkEkgtkl"
      }
    },
    {
      "cell_type": "markdown",
      "source": [
        "### For Else\n",
        "\n",
        "If we want to execute some message when the loop ends, we use else.\n",
        "\n",
        "```py\n",
        "# syntax\n",
        "for iterator in range(start, end, step):\n",
        "    do something\n",
        "else:\n",
        "    print('The loop ended')\n",
        "```\n",
        "\n",
        "**Example:**\n",
        "\n",
        "```py\n",
        "for number in range(11):\n",
        "    print(number)   # prints 0 to 10, not including 11\n",
        "else:\n",
        "    print('The loop stops at', number)\n",
        "```"
      ],
      "metadata": {
        "id": "B6ygXQK-gw1d"
      }
    },
    {
      "cell_type": "markdown",
      "source": [
        "### Pass\n",
        "\n",
        "In python when statement is required (after semicolon), but we don't like to execute any code there, we can write the word _pass_ to avoid errors. Also we can use it as a placeholder, for future statements.\n",
        "\n",
        "**Example:**\n",
        "\n",
        "```py\n",
        "for number in range(6):\n",
        "    pass\n",
        "```"
      ],
      "metadata": {
        "id": "G49XP76ng4U-"
      }
    },
    {
      "cell_type": "markdown",
      "source": [
        "## 💻 Exercises: Python Loops"
      ],
      "metadata": {
        "id": "9p-ya0G-hACl"
      }
    },
    {
      "cell_type": "code",
      "source": [
        "\n",
        "# using for loop\n",
        "for i in range(11):\n",
        "    print(i)\n"
      ],
      "metadata": {
        "colab": {
          "base_uri": "https://localhost:8080/"
        },
        "id": "0NDvK3nhtGCW",
        "outputId": "6a0019c4-15c8-4fb5-d9fe-9d9f70642550"
      },
      "execution_count": 5,
      "outputs": [
        {
          "output_type": "stream",
          "name": "stdout",
          "text": [
            "0\n",
            "1\n",
            "2\n",
            "3\n",
            "4\n",
            "5\n",
            "6\n",
            "7\n",
            "8\n",
            "9\n",
            "10\n"
          ]
        }
      ]
    },
    {
      "cell_type": "code",
      "source": [
        "#using while\n",
        "i = 0\n",
        "while i <= 10:\n",
        "    print(i)\n",
        "    i += 1\n"
      ],
      "metadata": {
        "colab": {
          "base_uri": "https://localhost:8080/"
        },
        "id": "USKIr95mt8A_",
        "outputId": "93b70f63-9c5f-46f7-b8d7-3fcf8d1da404"
      },
      "execution_count": 7,
      "outputs": [
        {
          "output_type": "stream",
          "name": "stdout",
          "text": [
            "0\n",
            "1\n",
            "2\n",
            "3\n",
            "4\n",
            "5\n",
            "6\n",
            "7\n",
            "8\n",
            "9\n",
            "10\n"
          ]
        }
      ]
    },
    {
      "cell_type": "code",
      "source": [
        "#using for loop\n",
        "for i in range(10, -1, -1):\n",
        "    print(i)\n"
      ],
      "metadata": {
        "colab": {
          "base_uri": "https://localhost:8080/"
        },
        "id": "aM9_oVgGuL4c",
        "outputId": "dc34c936-4edb-47d4-a2db-c36773114ee4"
      },
      "execution_count": 8,
      "outputs": [
        {
          "output_type": "stream",
          "name": "stdout",
          "text": [
            "10\n",
            "9\n",
            "8\n",
            "7\n",
            "6\n",
            "5\n",
            "4\n",
            "3\n",
            "2\n",
            "1\n",
            "0\n"
          ]
        }
      ]
    },
    {
      "cell_type": "code",
      "source": [
        "#using while\n",
        "i = 10\n",
        "while i >= 0:\n",
        "    print(i)\n",
        "    i -= 1"
      ],
      "metadata": {
        "colab": {
          "base_uri": "https://localhost:8080/"
        },
        "id": "QnpC9KN_uYpd",
        "outputId": "ad23add1-7f1e-4b1b-dbd1-906b42483f19"
      },
      "execution_count": 9,
      "outputs": [
        {
          "output_type": "stream",
          "name": "stdout",
          "text": [
            "10\n",
            "9\n",
            "8\n",
            "7\n",
            "6\n",
            "5\n",
            "4\n",
            "3\n",
            "2\n",
            "1\n",
            "0\n"
          ]
        }
      ]
    },
    {
      "cell_type": "code",
      "source": [
        "#this is the loop that wil print the triangle\n",
        "for i in range(1, 8):\n",
        "    print('#' * i)"
      ],
      "metadata": {
        "colab": {
          "base_uri": "https://localhost:8080/"
        },
        "id": "75_VdDQVusOu",
        "outputId": "a805890d-4650-452e-95f2-0bb3fc0fc055"
      },
      "execution_count": 11,
      "outputs": [
        {
          "output_type": "stream",
          "name": "stdout",
          "text": [
            "#\n",
            "##\n",
            "###\n",
            "####\n",
            "#####\n",
            "######\n",
            "#######\n"
          ]
        }
      ]
    },
    {
      "cell_type": "code",
      "source": [
        "#using  nested loop\n",
        "for i in range(8):\n",
        "    for j in range(8):\n",
        "        print(\"#\", end=\" \")\n",
        "    print()\n",
        "\n",
        "    # i creates the rows\n",
        "    # j creates the rows\n"
      ],
      "metadata": {
        "colab": {
          "base_uri": "https://localhost:8080/"
        },
        "id": "UVlRAWnRu_U-",
        "outputId": "1b1b55e2-ed90-455e-aa04-fe19efdf6cff"
      },
      "execution_count": 12,
      "outputs": [
        {
          "output_type": "stream",
          "name": "stdout",
          "text": [
            "# # # # # # # # \n",
            "# # # # # # # # \n",
            "# # # # # # # # \n",
            "# # # # # # # # \n",
            "# # # # # # # # \n",
            "# # # # # # # # \n",
            "# # # # # # # # \n",
            "# # # # # # # # \n"
          ]
        }
      ]
    },
    {
      "cell_type": "code",
      "source": [
        "# this will output the multiplied factors\n",
        "for i in range(11):\n",
        "    print(f\"{i} x {i} = {i * i}\")\n"
      ],
      "metadata": {
        "id": "GAUyY_TgvxCa",
        "colab": {
          "base_uri": "https://localhost:8080/"
        },
        "outputId": "0a4cfb1c-c2bd-4c7f-9721-d225fcc63f8d"
      },
      "execution_count": 21,
      "outputs": [
        {
          "output_type": "stream",
          "name": "stdout",
          "text": [
            "0 x 0 = 0\n",
            "1 x 1 = 1\n",
            "2 x 2 = 4\n",
            "3 x 3 = 9\n",
            "4 x 4 = 16\n",
            "5 x 5 = 25\n",
            "6 x 6 = 36\n",
            "7 x 7 = 49\n",
            "8 x 8 = 64\n",
            "9 x 9 = 81\n",
            "10 x 10 = 100\n"
          ]
        }
      ]
    },
    {
      "cell_type": "code",
      "source": [
        "#iterate through the list and output items\n",
        "technologies = ['Python', 'Numpy','Pandas','Django', 'Flask']\n",
        "for i in technologies:\n",
        "    print(i)"
      ],
      "metadata": {
        "colab": {
          "base_uri": "https://localhost:8080/"
        },
        "id": "mJtwYEiE0uzr",
        "outputId": "73f3163f-8930-445f-827f-32299b3f98f4"
      },
      "execution_count": 22,
      "outputs": [
        {
          "output_type": "stream",
          "name": "stdout",
          "text": [
            "Python\n",
            "Numpy\n",
            "Pandas\n",
            "Django\n",
            "Flask\n"
          ]
        }
      ]
    },
    {
      "cell_type": "code",
      "source": [
        "#iterate from 0 to 100 and print even numbers\n",
        "for i in range(101):\n",
        "    if i % 2 == 0:\n",
        "        print(i)"
      ],
      "metadata": {
        "id": "7L3y2tck07mo"
      },
      "execution_count": null,
      "outputs": []
    },
    {
      "cell_type": "code",
      "source": [
        "#iterate from 0 to 100 and print even numbers\n",
        "for i in range(101):\n",
        "    if i % 2 != 0:\n",
        "        print(i)"
      ],
      "metadata": {
        "id": "dXRm_4P71DVO"
      },
      "execution_count": null,
      "outputs": []
    },
    {
      "cell_type": "markdown",
      "source": [
        "### Exercises: Level 1\n",
        "\n",
        "1. Iterate 0 to 10 using for loop, do the same using while loop.\n",
        "2. Iterate 10 to 0 using for loop, do the same using while loop.\n",
        "3. Write a loop that makes seven calls to print(), so we get on the output the following triangle:\n",
        "\n",
        "   ```py\n",
        "     #\n",
        "     ##\n",
        "     ###\n",
        "     ####\n",
        "     #####\n",
        "     ######\n",
        "     #######\n",
        "   ```\n",
        "\n",
        "4. Use nested loops to create the following:\n",
        "\n",
        "   ```sh\n",
        "   # # # # # # # #\n",
        "   # # # # # # # #\n",
        "   # # # # # # # #\n",
        "   # # # # # # # #\n",
        "   # # # # # # # #\n",
        "   # # # # # # # #\n",
        "   # # # # # # # #\n",
        "   # # # # # # # #\n",
        "   ```\n",
        "\n",
        "5. Print the following pattern:\n",
        "\n",
        "   ```sh\n",
        "   0 x 0 = 0\n",
        "   1 x 1 = 1\n",
        "   2 x 2 = 4\n",
        "   3 x 3 = 9\n",
        "   4 x 4 = 16\n",
        "   5 x 5 = 25\n",
        "   6 x 6 = 36\n",
        "   7 x 7 = 49\n",
        "   8 x 8 = 64\n",
        "   9 x 9 = 81\n",
        "   10 x 10 = 100\n",
        "   ```\n",
        "\n",
        "6. Iterate through the list, ['Python', 'Numpy','Pandas','Django', 'Flask'] using a for loop and print out the items.\n",
        "7. Use for loop to iterate from 0 to 100 and print only even numbers\n",
        "8. Use for loop to iterate from 0 to 100 and print only odd numbers"
      ],
      "metadata": {
        "id": "pi0aaIqihHoN"
      }
    },
    {
      "cell_type": "code",
      "source": [
        "#iterate 0 to 100 and output sum\n",
        "sum = 0\n",
        "\n",
        "for i in range(101):\n",
        "    sum += i\n",
        "\n",
        "print(sum)\n"
      ],
      "metadata": {
        "colab": {
          "base_uri": "https://localhost:8080/"
        },
        "id": "zbZJDvdg1Pcz",
        "outputId": "3093aa37-819f-49df-d27b-b6d8e6ed7aa9"
      },
      "execution_count": 28,
      "outputs": [
        {
          "output_type": "stream",
          "name": "stdout",
          "text": [
            "5050\n"
          ]
        }
      ]
    },
    {
      "cell_type": "code",
      "source": [
        "#using for loop to iterate 0 to 100 and print sum of all evens and odds\n",
        "sum_even = 0\n",
        "sum_odd = 0\n",
        "\n",
        "for i in range(101):\n",
        "    if i % 2 == 0:\n",
        "        sum_even += i\n",
        "    else:\n",
        "        sum_odd += i\n",
        "\n",
        "print(sum_even)\n",
        "print(sum_odd)\n"
      ],
      "metadata": {
        "colab": {
          "base_uri": "https://localhost:8080/"
        },
        "id": "jg_QBHew1wLR",
        "outputId": "b66378fa-2d12-4dbc-f95f-9d56a710d5ed"
      },
      "execution_count": 31,
      "outputs": [
        {
          "output_type": "stream",
          "name": "stdout",
          "text": [
            "2550\n",
            "2500\n"
          ]
        }
      ]
    },
    {
      "cell_type": "markdown",
      "source": [
        "### Exercises: Level 2\n",
        "    \n",
        "1.  Use for loop to iterate from 0 to 100 and print the sum of all numbers.\n",
        "\n",
        "   ```sh\n",
        "   The sum of all numbers is 5050.\n",
        "   ```\n",
        "\n",
        "1. Use for loop to iterate from 0 to 100 and print the sum of all evens and the sum of all odds.\n",
        "\n",
        "    ```sh\n",
        "    The sum of all evens is 2550. And the sum of all odds is 2500.\n",
        "    ```"
      ],
      "metadata": {
        "id": "Oh6mF546hYq9"
      }
    }
  ]
}