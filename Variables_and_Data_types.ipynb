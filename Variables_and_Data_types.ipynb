{
  "nbformat": 4,
  "nbformat_minor": 0,
  "metadata": {
    "colab": {
      "provenance": [],
      "include_colab_link": true
    },
    "kernelspec": {
      "name": "python3",
      "display_name": "Python 3"
    },
    "language_info": {
      "name": "python"
    }
  },
  "cells": [
    {
      "cell_type": "markdown",
      "metadata": {
        "id": "view-in-github",
        "colab_type": "text"
      },
      "source": [
        "<a href=\"https://colab.research.google.com/github/peter-kiilu/python_course/blob/main/Variables_and_Data_types.ipynb\" target=\"_parent\"><img src=\"https://colab.research.google.com/assets/colab-badge.svg\" alt=\"Open In Colab\"/></a>"
      ]
    },
    {
      "cell_type": "markdown",
      "source": [
        "# Variables in Python\n",
        "\n",
        "Variables in Python are used to store values that can be referenced and manipulated throughout a program. A variable is created by assigning a value to a name using the `=` operator. For example, `first_name = 'Asabeneh'` creates a variable `first_name` that stores the string `'Asabeneh'`. Python supports various data types for variables, such as strings, integers, booleans, lists, and dictionaries. String variables store text data enclosed in quotes, integers hold whole numbers, and booleans represent `True` or `False` values. Lists are used for ordered collections of items, while dictionaries store key-value pairs for structured data.\n",
        "\n",
        "The flexibility of Python variables lies in its dynamic typing, meaning you do not need to declare the data type explicitly—Python determines it based on the assigned value. For example, `skills = ['HTML', 'CSS', 'JS', 'React', 'Python']` creates a list variable holding multiple values, while `person_info = {'firstname': 'Asabeneh', 'lastname': 'Yetayeh', 'country': 'Finland'}` creates a dictionary. By using descriptive variable names and appropriate data structures, you make your code more readable and maintainable. Variables form the foundation of programming logic, allowing for data storage, manipulation, and dynamic behavior in applications.\n"
      ],
      "metadata": {
        "id": "44SDh2qrue7Z"
      }
    },
    {
      "cell_type": "code",
      "execution_count": null,
      "metadata": {
        "id": "5x4BcsiWuMFr"
      },
      "outputs": [],
      "source": [
        "# Variables in Python\n",
        "\n",
        "first_name = 'Asabeneh'\n",
        "last_name = 'Yetayeh'\n",
        "country = 'Finland'\n",
        "city = 'Helsinki'\n",
        "age = 25\n",
        "is_married = True\n",
        "is_male = True\n",
        "is_female = False\n",
        "skills = ['HTML', 'CSS', 'JS', 'React', 'Python'] # arrays\n",
        "\n",
        "person_info = {\n",
        "    'firstname':'Asabeneh',\n",
        "    'lastname':'Yetayeh',\n",
        "    'country':'Finland',\n",
        "    'city':'Helsinki'\n",
        "    }\n",
        "\n",
        "counties = {\n",
        "    '001': 'Mombasa',\n",
        "    '002': 'Kilifi'\n",
        "}"
      ]
    },
    {
      "cell_type": "code",
      "source": [
        "# Printing the values stored in the variables\n",
        "\n",
        "print('First name:', first_name)\n",
        "print('First name length:', len(first_name))\n",
        "print('Last name: ', last_name)\n",
        "print('Last name length: ', len(last_name))\n",
        "print('Country: ', country)\n",
        "print('City: ', city)\n",
        "print('Age: ', age + 1)\n",
        "print('Married: ', is_married)\n",
        "print('Skills: ', skills)\n",
        "print('Person information: ', person_info)\n"
      ],
      "metadata": {
        "id": "q_V7Sma2u1qP",
        "colab": {
          "base_uri": "https://localhost:8080/"
        },
        "outputId": "202c665b-502d-44a8-ea0d-4ba980734847"
      },
      "execution_count": null,
      "outputs": [
        {
          "output_type": "stream",
          "name": "stdout",
          "text": [
            "First name: Asabeneh\n",
            "First name length: 8\n",
            "Last name:  Yetayeh\n",
            "Last name length:  7\n",
            "Country:  Finland\n",
            "City:  Helsinki\n",
            "Age:  26\n",
            "Married:  True\n",
            "Skills:  ['HTML', 'CSS', 'JS', 'React', 'Python']\n",
            "Person information:  {'firstname': 'Asabeneh', 'lastname': 'Yetayeh', 'country': 'Finland', 'city': 'Helsinki'}\n"
          ]
        }
      ]
    },
    {
      "cell_type": "code",
      "source": [
        "# Declaring multiple variables in one line\n",
        "\n",
        "first_name, last_name, country, age, is_married = 'Asabeneh', 'Yetayeh', 'Finland', 25, True\n",
        "\n",
        "print(first_name, last_name, country, age, is_married)\n",
        "print('First name:', first_name)\n",
        "print('Last name: ', last_name)\n",
        "print('Country: ', country)\n",
        "print('Age: ', age)\n",
        "print('Married: ', is_married)"
      ],
      "metadata": {
        "colab": {
          "base_uri": "https://localhost:8080/"
        },
        "id": "bfEVB9Xgu60w",
        "outputId": "a39b6d54-018e-4ee9-99e6-3e9f644ec57d"
      },
      "execution_count": null,
      "outputs": [
        {
          "output_type": "stream",
          "name": "stdout",
          "text": [
            "Asabeneh Yetayeh Finland 25 True\n",
            "First name: Asabeneh\n",
            "Last name:  Yetayeh\n",
            "Country:  Finland\n",
            "Age:  25\n",
            "Married:  True\n"
          ]
        }
      ]
    }
  ]
}