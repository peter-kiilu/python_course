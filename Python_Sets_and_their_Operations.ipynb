{
  "nbformat": 4,
  "nbformat_minor": 0,
  "metadata": {
    "colab": {
      "provenance": [],
      "include_colab_link": true
    },
    "kernelspec": {
      "name": "python3",
      "display_name": "Python 3"
    },
    "language_info": {
      "name": "python"
    }
  },
  "cells": [
    {
      "cell_type": "markdown",
      "metadata": {
        "id": "view-in-github",
        "colab_type": "text"
      },
      "source": [
        "<a href=\"https://colab.research.google.com/github/peter-kiilu/python_course/blob/main/Python_Sets_and_their_Operations.ipynb\" target=\"_parent\"><img src=\"https://colab.research.google.com/assets/colab-badge.svg\" alt=\"Open In Colab\"/></a>"
      ]
    },
    {
      "cell_type": "markdown",
      "source": [
        "<div align=\"center\">\n",
        "  <h1> Python for Data Science - Sets</h1>\n",
        "  <a class=\"header-badge\" target=\"_blank\" href=\"https://www.linkedin.com/company/martial-school-of-it/\">\n",
        "  <img src=\"https://school.martial.co.ke/wp-content/uploads/2024/07/Logo-1.3-01.png\">\n",
        "\n",
        "<sub>Author:\n",
        "<a href=\"https://www.linkedin.com/in/onyango-eric-otieno-944ba320a/\" target=\"_blank\">Erick Otieno</a><br>\n",
        "<small> Python for Data Science, Jan 2025 Cohort</small>\n",
        "</sub>\n",
        "\n",
        "</div>"
      ],
      "metadata": {
        "id": "DrSV98wAfFZU"
      }
    },
    {
      "cell_type": "markdown",
      "source": [
        "## Sets\n",
        "\n",
        "Set is a collection of items. Let me take you back to your elementary or high school Mathematics lesson. The Mathematics definition of a set can be applied also in Python. Set is a collection of unordered and un-indexed distinct elements. In Python set is used to store unique items, and it is possible to find the _union_, _intersection_, _difference_, _symmetric difference_, _subset_, _super set_ and _disjoint set_ among sets.\n"
      ],
      "metadata": {
        "id": "Nk1aR7KWfOeU"
      }
    },
    {
      "cell_type": "markdown",
      "source": [
        "### Creating a Set\n",
        "\n",
        "We use the _set()_ built-in function.\n",
        "\n",
        "- Creating an empty set\n",
        "\n",
        "```py\n",
        "# syntax\n",
        "st = set()\n",
        "```\n",
        "\n",
        "- Creating a set with initial items\n",
        "\n",
        "```py\n",
        "# syntax\n",
        "st = {'item1', 'item2', 'item3', 'item4'}\n",
        "```\n",
        "\n",
        "**Example:**\n",
        "\n",
        "```py\n",
        "# syntax\n",
        "fruits = {'banana', 'orange', 'mango', 'lemon'}\n",
        "```"
      ],
      "metadata": {
        "id": "afK02Aidfklk"
      }
    },
    {
      "cell_type": "markdown",
      "source": [
        "### Getting Set's Length\n",
        "\n",
        "We use **len()** method to find the length of a set.\n",
        "\n",
        "```py\n",
        "# syntax\n",
        "st = {'item1', 'item2', 'item3', 'item4'}\n",
        "len(st)\n",
        "```\n",
        "\n",
        "**Example:**\n",
        "\n",
        "```py\n",
        "fruits = {'banana', 'orange', 'mango', 'lemon'}\n",
        "len(fruits)\n",
        "```"
      ],
      "metadata": {
        "id": "lC51pC0IfmY0"
      }
    },
    {
      "cell_type": "markdown",
      "source": [
        "### Accessing Items in a Set\n",
        "\n",
        "We use loops to access items. We will see this in loop section"
      ],
      "metadata": {
        "id": "CVLJnt7of1cc"
      }
    },
    {
      "cell_type": "markdown",
      "source": [
        "### Checking an Item\n",
        "\n",
        "To check if an item exist in a list we use _in_ membership operator.\n",
        "\n",
        "```py\n",
        "# syntax\n",
        "st = {'item1', 'item2', 'item3', 'item4'}\n",
        "print(\"Does set st contain item3? \", 'item3' in st) # Does set st contain item3? True\n",
        "```\n",
        "\n",
        "**Example:**\n",
        "\n",
        "```py\n",
        "fruits = {'banana', 'orange', 'mango', 'lemon'}\n",
        "print('mango' in fruits ) # True\n",
        "```"
      ],
      "metadata": {
        "id": "8wnom6HAf6Ds"
      }
    },
    {
      "cell_type": "markdown",
      "source": [
        "### Adding Items to a Set\n",
        "\n",
        "Once a set is created we cannot change any items and we can also add additional items.\n",
        "\n",
        "- Add one item using _add()_\n",
        "\n",
        "```py\n",
        "# syntax\n",
        "st = {'item1', 'item2', 'item3', 'item4'}\n",
        "st.add('item5')\n",
        "```\n",
        "\n",
        "**Example:**\n",
        "\n",
        "```py\n",
        "fruits = {'banana', 'orange', 'mango', 'lemon'}\n",
        "fruits.add('lime')\n",
        "```\n",
        "\n",
        "- Add multiple items using _update()_\n",
        "  The _update()_ allows to add multiple items to a set. The _update()_ takes a list argument.\n",
        "\n",
        "```py\n",
        "# syntax\n",
        "st = {'item1', 'item2', 'item3', 'item4'}\n",
        "st.update(['item5','item6','item7'])\n",
        "```\n",
        "\n",
        "**Example:**\n",
        "\n",
        "```py\n",
        "fruits = {'banana', 'orange', 'mango', 'lemon'}\n",
        "vegetables = ('tomato', 'potato', 'cabbage','onion', 'carrot')\n",
        "fruits.update(vegetables)\n",
        "```"
      ],
      "metadata": {
        "id": "QxXH_i7wgBt8"
      }
    },
    {
      "cell_type": "markdown",
      "source": [
        "### Removing Items from a Set\n",
        "\n",
        "We can remove an item from a set using _remove()_ method. If the item is not found _remove()_ method will raise errors, so it is good to check if the item exist in the given set. However, _discard()_ method doesn't raise any errors.\n",
        "\n",
        "```py\n",
        "# syntax\n",
        "st = {'item1', 'item2', 'item3', 'item4'}\n",
        "st.remove('item2')\n",
        "```\n",
        "\n",
        "The pop() methods remove a random item from a list and it returns the removed item.\n",
        "\n",
        "**Example:**\n",
        "\n",
        "```py\n",
        "fruits = {'banana', 'orange', 'mango', 'lemon'}\n",
        "fruits.pop()  # removes a random item from the set\n",
        "\n",
        "```\n",
        "\n",
        "If we are interested in the removed item.\n",
        "\n",
        "```py\n",
        "fruits = {'banana', 'orange', 'mango', 'lemon'}\n",
        "removed_item = fruits.pop()\n",
        "```"
      ],
      "metadata": {
        "id": "ZCo1wnoHgJ3s"
      }
    },
    {
      "cell_type": "markdown",
      "source": [
        "### Clearing Items in a Set\n",
        "\n",
        "If we want to clear or empty the set we use _clear_ method.\n",
        "\n",
        "```py\n",
        "# syntax\n",
        "st = {'item1', 'item2', 'item3', 'item4'}\n",
        "st.clear()\n",
        "```\n",
        "\n",
        "**Example:**\n",
        "\n",
        "```py\n",
        "fruits = {'banana', 'orange', 'mango', 'lemon'}\n",
        "fruits.clear()\n",
        "print(fruits) # set()\n",
        "```"
      ],
      "metadata": {
        "id": "d61XvQDMgPzk"
      }
    },
    {
      "cell_type": "markdown",
      "source": [
        "### Deleting a Set\n",
        "\n",
        "If we want to delete the set itself we use _del_ operator.\n",
        "\n",
        "```py\n",
        "# syntax\n",
        "st = {'item1', 'item2', 'item3', 'item4'}\n",
        "del st\n",
        "```\n",
        "\n",
        "**Example:**\n",
        "\n",
        "```py\n",
        "fruits = {'banana', 'orange', 'mango', 'lemon'}\n",
        "del fruits\n",
        "```"
      ],
      "metadata": {
        "id": "qcP6iv0agVfE"
      }
    },
    {
      "cell_type": "markdown",
      "source": [
        "### Converting List to Set\n",
        "\n",
        "We can convert list to set and set to list. Converting list to set removes duplicates and only unique items will be reserved.\n",
        "\n",
        "```py\n",
        "# syntax\n",
        "lst = ['item1', 'item2', 'item3', 'item4', 'item1']\n",
        "st = set(lst)  # {'item2', 'item4', 'item1', 'item3'} - the order is random, because sets in general are unordered\n",
        "```\n",
        "\n",
        "**Example:**\n",
        "\n",
        "```py\n",
        "fruits = ['banana', 'orange', 'mango', 'lemon','orange', 'banana']\n",
        "fruits = set(fruits) # {'mango', 'lemon', 'banana', 'orange'}\n",
        "```"
      ],
      "metadata": {
        "id": "4y3MTiGBgZV0"
      }
    },
    {
      "cell_type": "markdown",
      "source": [
        "### Joining Sets\n",
        "\n",
        "We can join two sets using the _union()_ or _update()_ method.\n",
        "\n",
        "- Union\n",
        "  This method returns a new set\n",
        "\n",
        "```py\n",
        "# syntax\n",
        "st1 = {'item1', 'item2', 'item3', 'item4'}\n",
        "st2 = {'item5', 'item6', 'item7', 'item8'}\n",
        "st3 = st1.union(st2)\n",
        "```\n",
        "\n",
        "**Example:**\n",
        "\n",
        "```py\n",
        "fruits = {'banana', 'orange', 'mango', 'lemon'}\n",
        "vegetables = {'tomato', 'potato', 'cabbage','onion', 'carrot'}\n",
        "print(fruits.union(vegetables)) # {'lemon', 'carrot', 'tomato', 'banana', 'mango', 'orange', 'cabbage', 'potato', 'onion'}\n",
        "```\n",
        "\n",
        "- Update\n",
        "  This method inserts a set into a given set\n",
        "\n",
        "```py\n",
        "# syntax\n",
        "st1 = {'item1', 'item2', 'item3', 'item4'}\n",
        "st2 = {'item5', 'item6', 'item7', 'item8'}\n",
        "st1.update(st2) # st2 contents are added to st1\n",
        "```\n",
        "\n",
        "**Example:**\n",
        "\n",
        "```py\n",
        "fruits = {'banana', 'orange', 'mango', 'lemon'}\n",
        "vegetables = {'tomato', 'potato', 'cabbage','onion', 'carrot'}\n",
        "fruits.update(vegetables)\n",
        "print(fruits) # {'lemon', 'carrot', 'tomato', 'banana', 'mango', 'orange', 'cabbage', 'potato', 'onion'}\n",
        "```"
      ],
      "metadata": {
        "id": "R8GNBSN4gdQM"
      }
    },
    {
      "cell_type": "markdown",
      "source": [
        "### Finding Intersection Items\n",
        "\n",
        "Intersection returns a set of items which are in both the sets. See the example\n",
        "\n",
        "```py\n",
        "# syntax\n",
        "st1 = {'item1', 'item2', 'item3', 'item4'}\n",
        "st2 = {'item3', 'item2'}\n",
        "st1.intersection(st2) # {'item3', 'item2'}\n",
        "```\n",
        "\n",
        "**Example:**\n",
        "\n",
        "```py\n",
        "whole_numbers = {0, 1, 2, 3, 4, 5, 6, 7, 8, 9, 10}\n",
        "even_numbers = {0, 2, 4, 6, 8, 10}\n",
        "whole_numbers.intersection(even_numbers) # {0, 2, 4, 6, 8, 10}\n",
        "\n",
        "python = {'p', 'y', 't', 'h', 'o','n'}\n",
        "dragon = {'d', 'r', 'a', 'g', 'o','n'}\n",
        "python.intersection(dragon)     # {'o', 'n'}\n",
        "```"
      ],
      "metadata": {
        "id": "WtkumCg-glbs"
      }
    },
    {
      "cell_type": "markdown",
      "source": [
        "### Checking Subset and Super Set\n",
        "\n",
        "A set can be a subset or super set of other sets:\n",
        "\n",
        "- Subset: _issubset()_\n",
        "- Super set: _issuperset_\n",
        "\n",
        "```py\n",
        "# syntax\n",
        "st1 = {'item1', 'item2', 'item3', 'item4'}\n",
        "st2 = {'item2', 'item3'}\n",
        "st2.issubset(st1) # True\n",
        "st1.issuperset(st2) # True\n",
        "```\n",
        "\n",
        "**Example:**\n",
        "\n",
        "```py\n",
        "whole_numbers = {0, 1, 2, 3, 4, 5, 6, 7, 8, 9, 10}\n",
        "even_numbers = {0, 2, 4, 6, 8, 10}\n",
        "whole_numbers.issubset(even_numbers) # False, because it is a super set\n",
        "whole_numbers.issuperset(even_numbers) # True\n",
        "\n",
        "python = {'p', 'y', 't', 'h', 'o','n'}\n",
        "dragon = {'d', 'r', 'a', 'g', 'o','n'}\n",
        "python.issubset(dragon)     # False\n",
        "```"
      ],
      "metadata": {
        "id": "A_H1LKMHg4Sc"
      }
    },
    {
      "cell_type": "markdown",
      "source": [
        "### Checking the Difference Between Two Sets\n",
        "\n",
        "It returns the difference between two sets.\n",
        "\n",
        "```py\n",
        "# syntax\n",
        "st1 = {'item1', 'item2', 'item3', 'item4'}\n",
        "st2 = {'item2', 'item3'}\n",
        "st2.difference(st1) # set()\n",
        "st1.difference(st2) # {'item1', 'item4'} => st1\\st2\n",
        "```\n",
        "\n",
        "**Example:**\n",
        "\n",
        "```py\n",
        "whole_numbers = {0, 1, 2, 3, 4, 5, 6, 7, 8, 9, 10}\n",
        "even_numbers = {0, 2, 4, 6, 8, 10}\n",
        "whole_numbers.difference(even_numbers) # {1, 3, 5, 7, 9}\n",
        "\n",
        "python = {'p', 'y', 't', 'o','n'}\n",
        "dragon = {'d', 'r', 'a', 'g', 'o','n'}\n",
        "python.difference(dragon)     # {'p', 'y', 't'}  - the result is unordered (characteristic of sets)\n",
        "dragon.difference(python)     # {'d', 'r', 'a', 'g'}\n",
        "```"
      ],
      "metadata": {
        "id": "TKov7rx3g9h0"
      }
    },
    {
      "cell_type": "markdown",
      "source": [
        "### Finding Symmetric Difference Between Two Sets\n",
        "\n",
        "It returns the symmetric difference between two sets. It means that it returns a set that contains all items from both sets, except items that are present in both sets, mathematically: (A\\B) ∪ (B\\A)\n",
        "\n",
        "```py\n",
        "# syntax\n",
        "st1 = {'item1', 'item2', 'item3', 'item4'}\n",
        "st2 = {'item2', 'item3'}\n",
        "# it means (A\\B)∪(B\\A)\n",
        "st2.symmetric_difference(st1) # {'item1', 'item4'}\n",
        "```\n",
        "\n",
        "**Example:**\n",
        "\n",
        "```py\n",
        "whole_numbers = {0, 1, 2, 3, 4, 5, 6, 7, 8, 9, 10}\n",
        "some_numbers = {1, 2, 3, 4, 5}\n",
        "whole_numbers.symmetric_difference(some_numbers) # {0, 6, 7, 8, 9, 10}\n",
        "\n",
        "python = {'p', 'y', 't', 'h', 'o','n'}\n",
        "dragon = {'d', 'r', 'a', 'g', 'o','n'}\n",
        "python.symmetric_difference(dragon)  # {'r', 't', 'p', 'y', 'g', 'a', 'd', 'h'}\n",
        "```"
      ],
      "metadata": {
        "id": "UQYVfcrThDKs"
      }
    },
    {
      "cell_type": "markdown",
      "source": [
        "### Joining Sets\n",
        "\n",
        "If two sets do not have a common item or items we call them disjoint sets. We can check if two sets are joint or disjoint using _isdisjoint()_ method.\n",
        "\n",
        "```py\n",
        "# syntax\n",
        "st1 = {'item1', 'item2', 'item3', 'item4'}\n",
        "st2 = {'item2', 'item3'}\n",
        "st2.isdisjoint(st1) # False\n",
        "```\n",
        "\n",
        "**Example:**\n",
        "\n",
        "```py\n",
        "even_numbers = {0, 2, 4 ,6, 8}\n",
        "odd_numbers = {1, 3, 5, 7, 9}\n",
        "even_numbers.isdisjoint(odd_numbers) # True, because no common item\n",
        "\n",
        "python = {'p', 'y', 't', 'h', 'o','n'}\n",
        "dragon = {'d', 'r', 'a', 'g', 'o','n'}\n",
        "python.isdisjoint(dragon)  # False, there are common items {'o', 'n'}\n",
        "```"
      ],
      "metadata": {
        "id": "6N4f_8y8hH5G"
      }
    },
    {
      "cell_type": "markdown",
      "source": [
        "## 💻 Exercises: Sets\n",
        "\n",
        "```py\n",
        "# sets\n",
        "it_companies = {'Facebook', 'Google', 'Microsoft', 'Apple', 'IBM', 'Oracle', 'Amazon'}\n",
        "A = {19, 22, 24, 20, 25, 26}\n",
        "B = {19, 22, 20, 25, 26, 24, 28, 27}\n",
        "age = [22, 19, 24, 25, 26, 24, 25, 24]\n",
        "```"
      ],
      "metadata": {
        "id": "boUZNF7MhQ90"
      }
    },
    {
      "cell_type": "markdown",
      "source": [
        "### Exercises: Level 1\n",
        "\n",
        "1. Find the length of the set it_companies\n",
        "2. Add 'Twitter' to it_companies\n",
        "3. Insert multiple IT companies at once to the set it_companies\n",
        "4. Remove one of the companies from the set it_companies\n",
        "5. What is the difference between remove and discard\n",
        "\n",
        "### Exercises: Level 2\n",
        "\n",
        "1. Join A and B\n",
        "1. Find A intersection B\n",
        "1. Is A subset of B\n",
        "1. Are A and B disjoint sets\n",
        "1. Join A with B and B with A\n",
        "1. What is the symmetric difference between A and B\n",
        "1. Delete the sets completely\n",
        "\n",
        "### Exercises: Level 3\n",
        "\n",
        "1. Convert the ages to a set and compare the length of the list and the set, which one is bigger?\n",
        "1. Explain the difference between the following data types: string, list, tuple and set\n",
        "2. _I am a teacher and I love to inspire and teach people._ How many unique words have been used in the sentence? Use the split methods and set to get the unique words."
      ],
      "metadata": {
        "id": "fDmp5VtFhejN"
      }
    }
  ]
}