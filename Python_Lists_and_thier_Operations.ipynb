{
  "nbformat": 4,
  "nbformat_minor": 0,
  "metadata": {
    "colab": {
      "provenance": [],
      "include_colab_link": true
    },
    "kernelspec": {
      "name": "python3",
      "display_name": "Python 3"
    },
    "language_info": {
      "name": "python"
    }
  },
  "cells": [
    {
      "cell_type": "markdown",
      "metadata": {
        "id": "view-in-github",
        "colab_type": "text"
      },
      "source": [
        "<a href=\"https://colab.research.google.com/github/peter-kiilu/python_course/blob/main/Python_Lists_and_thier_Operations.ipynb\" target=\"_parent\"><img src=\"https://colab.research.google.com/assets/colab-badge.svg\" alt=\"Open In Colab\"/></a>"
      ]
    },
    {
      "cell_type": "code",
      "execution_count": null,
      "metadata": {
        "id": "9AnjvEaLzx9S"
      },
      "outputs": [],
      "source": [
        "empty_list = list() # this is an empty list, no item in the list\n",
        "print(len(empty_list)) # 0\n",
        "\n",
        "fruits = ['banana', 'orange', 'mango', 'lemon']                     # list of fruits\n",
        "vegetables = ['Tomato', 'Potato', 'Cabbage','Onion', 'Carrot']      # list of vegetables\n",
        "animal_products = ['milk', 'meat', 'butter', 'yoghurt']             # list of animal products\n",
        "web_techs = ['HTML', 'CSS', 'JS', 'React','Redux', 'Node', 'MongDB'] # list of web technologies\n",
        "countries = ['Finland', 'Estonia', 'Denmark', 'Sweden', 'Norway']"
      ]
    },
    {
      "cell_type": "code",
      "source": [
        "# Print the lists and it length\n",
        "print('Fruits:', fruits)\n",
        "print('Number of fruits:', len(fruits))\n",
        "print('Vegetables:', vegetables)\n",
        "print('Number of vegetables:', len(vegetables))\n",
        "print('Animal products:',animal_products)\n",
        "print('Number of animal products:', len(animal_products))\n",
        "print('Web technologies:', web_techs)\n",
        "print('Number of web technologies:', len(web_techs))\n",
        "print('Number of countries:', len(countries))"
      ],
      "metadata": {
        "id": "VaiWBBA30CcQ"
      },
      "execution_count": null,
      "outputs": []
    },
    {
      "cell_type": "code",
      "source": [
        "# Modifying list\n",
        "\n",
        "fruits = ['banana', 'orange', 'mango', 'lemon']\n",
        "first_fruit = fruits[0] # we are accessing the first item using its index\n",
        "print(first_fruit)      # banana\n",
        "second_fruit = fruits[1]\n",
        "print(second_fruit)     # orange\n",
        "last_fruit = fruits[3]\n",
        "print(last_fruit) # lemon\n",
        "# Last index\n",
        "last_index = len(fruits) - 1\n",
        "last_fruit = fruits[last_index]\n"
      ],
      "metadata": {
        "id": "Rl2ggtMe0GR3"
      },
      "execution_count": null,
      "outputs": []
    },
    {
      "cell_type": "code",
      "source": [
        "# Accessing items\n",
        "fruits = ['banana', 'orange', 'mango', 'lemon']\n",
        "last_fruit = fruits[-1]\n",
        "second_last = fruits[-2]\n",
        "print(last_fruit)       # lemon\n",
        "print(second_last)      # mango\n"
      ],
      "metadata": {
        "id": "mtEKPk5H0KCf"
      },
      "execution_count": null,
      "outputs": []
    },
    {
      "cell_type": "code",
      "source": [
        "# Slicing items\n",
        "fruits = ['banana', 'orange', 'mango', 'lemon']\n",
        "all_fruits = fruits[0:4] # it returns all the fruits\n",
        "# this is also give the same result as the above\n",
        "all_fruits = fruits[0:] # if we don't set where to stop it takes all the rest\n",
        "orange_and_mango = fruits[1:3] # it does not include the end index\n",
        "orange_mango_lemon = fruits[1:]\n",
        "\n",
        "fruits = ['banana', 'orange', 'mango', 'lemon']\n",
        "all_fruits = fruits[-4:] # it returns all the fruits\n",
        "# this is also give the same result as the above\n",
        "orange_and_mango = fruits[-3:-1] # it does not include the end index\n",
        "orange_mango_lemon = fruits[-3:]\n",
        "\n",
        "\n",
        "fruits = ['banana', 'orange', 'mango', 'lemon']\n",
        "fruits[0] = 'Avocado'\n",
        "print(fruits)       #  ['avocado', 'orange', 'mango', 'lemon']\n",
        "fruits[1] = 'apple'\n",
        "print(fruits)       #  ['avocado', 'apple', 'mango', 'lemon']\n",
        "last_index = len(fruits) - 1\n",
        "fruits[last_index] = 'lime'\n",
        "print(fruits)        #  ['avocado', 'apple', 'mango', 'lime']"
      ],
      "metadata": {
        "id": "KuO9X2mJ0S7_"
      },
      "execution_count": null,
      "outputs": []
    },
    {
      "cell_type": "code",
      "source": [
        "# checking items\n",
        "fruits = ['banana', 'orange', 'mango', 'lemon']\n",
        "does_exist = 'banana' in fruits\n",
        "print(does_exist)  # True\n",
        "does_exist = 'lime' in fruits\n",
        "print(does_exist)  # False"
      ],
      "metadata": {
        "id": "SHEQnUoE0X6f"
      },
      "execution_count": null,
      "outputs": []
    },
    {
      "cell_type": "code",
      "source": [
        "# Append\n",
        "fruits = ['banana', 'orange', 'mango', 'lemon']\n",
        "fruits.append('apple')\n",
        "print(fruits)           # ['banana', 'orange', 'mango', 'lemon', 'apple']\n",
        "fruits.append('lime')   # ['banana', 'orange', 'mango', 'lemon', 'apple', 'lime]\n",
        "print(fruits)"
      ],
      "metadata": {
        "id": "9M9QmhgK0byH"
      },
      "execution_count": null,
      "outputs": []
    },
    {
      "cell_type": "code",
      "source": [
        "# insert\n",
        "fruits = ['banana', 'orange', 'mango', 'lemon']\n",
        "fruits.insert(2, 'apple') # insert apple between orange and mango\n",
        "print(fruits)           # ['banana', 'orange', 'apple', 'mango', 'lemon']\n",
        "fruits.insert(3, 'lime')   # ['banana', 'orange', 'apple', 'mango', 'lime','lemon',]\n",
        "print(fruits)\n"
      ],
      "metadata": {
        "id": "-3lxr_8X0e34"
      },
      "execution_count": null,
      "outputs": []
    },
    {
      "cell_type": "code",
      "source": [
        "# remove\n",
        "fruits = ['banana', 'orange', 'mango', 'lemon']\n",
        "fruits.remove('banana')\n",
        "print(fruits)  # ['orange', 'mango', 'lemon']\n",
        "fruits.remove('lemon')\n",
        "print(fruits)  # ['orange', 'mango']\n"
      ],
      "metadata": {
        "id": "yiNho09S0iuX"
      },
      "execution_count": null,
      "outputs": []
    },
    {
      "cell_type": "code",
      "source": [
        "# pop\n",
        "fruits = ['banana', 'orange', 'mango', 'lemon']\n",
        "fruits.pop()\n",
        "print(fruits)       # ['banana', 'orange', 'mango']\n",
        "\n",
        "fruits.pop(0)\n",
        "print(fruits)       # ['orange', 'mango']\n"
      ],
      "metadata": {
        "id": "LXCK0Z5I0nUf"
      },
      "execution_count": null,
      "outputs": []
    },
    {
      "cell_type": "code",
      "source": [
        "# del\n",
        "fruits = ['banana', 'orange', 'mango', 'lemon']\n",
        "del fruits[0]\n",
        "print(fruits)       # ['orange', 'mango', 'lemon']\n",
        "\n",
        "del fruits[1]\n",
        "print(fruits)       # ['orange', 'lemon']\n",
        "del fruits\n",
        "print(fruits)       # This should give: NameError: name 'fruits' is not defined"
      ],
      "metadata": {
        "id": "8h3F09Yi0s-v"
      },
      "execution_count": null,
      "outputs": []
    },
    {
      "cell_type": "code",
      "source": [
        "# clear\n",
        "fruits = ['banana', 'orange', 'mango', 'lemon']\n",
        "fruits.clear()\n",
        "print(fruits)       # []\n"
      ],
      "metadata": {
        "id": "unOLr6BL0wdP",
        "colab": {
          "base_uri": "https://localhost:8080/"
        },
        "outputId": "09f15d33-1a90-4033-ee97-76e16fd3c289"
      },
      "execution_count": null,
      "outputs": [
        {
          "output_type": "stream",
          "name": "stdout",
          "text": [
            "[]\n"
          ]
        }
      ]
    },
    {
      "cell_type": "code",
      "source": [
        "# copying a lits\n",
        "\n",
        "fruits = ['banana', 'orange', 'mango', 'lemon']\n",
        "fruits_copy = fruits.copy()\n",
        "print(fruits_copy)       # ['banana', 'orange', 'mango', 'lemon']\n",
        "\n",
        "print(fruits == fruits_copy)"
      ],
      "metadata": {
        "id": "BRYZR5Ff0zMQ",
        "colab": {
          "base_uri": "https://localhost:8080/"
        },
        "outputId": "20462f0e-b6ec-4ada-80c8-838c63ef609d"
      },
      "execution_count": null,
      "outputs": [
        {
          "output_type": "stream",
          "name": "stdout",
          "text": [
            "['banana', 'orange', 'mango', 'lemon']\n",
            "True\n"
          ]
        }
      ]
    },
    {
      "cell_type": "code",
      "source": [
        "# join: It combines the list item using plus(+) operator\n",
        "positive_numbers = [1, 2, 3,4,5]\n",
        "zero = [0]\n",
        "negative_numbers = [-5,-4,-3,-2,-1]\n",
        "integers = negative_numbers + zero + positive_numbers\n",
        "print(integers)\n",
        "\n",
        "\n",
        "fruits = ['banana', 'orange', 'mango', 'lemon']\n",
        "vegetables = ['Tomato', 'Potato', 'Cabbage','Onion', 'Carrot']\n",
        "fruits_and_vegetables = fruits + vegetables\n",
        "print(fruits_and_vegetables )\n"
      ],
      "metadata": {
        "id": "DKBdDlCs02fv",
        "colab": {
          "base_uri": "https://localhost:8080/"
        },
        "outputId": "6d5705cd-3808-4bec-a1db-df8a7f4ad5b7"
      },
      "execution_count": null,
      "outputs": [
        {
          "output_type": "stream",
          "name": "stdout",
          "text": [
            "[-5, -4, -3, -2, -1, 0, 1, 2, 3, 4, 5]\n",
            "['banana', 'orange', 'mango', 'lemon', 'Tomato', 'Potato', 'Cabbage', 'Onion', 'Carrot']\n"
          ]
        }
      ]
    },
    {
      "cell_type": "code",
      "source": [
        "# join with extend\n",
        "num1 = [0, 1, 2, 3]\n",
        "num2= [4, 5,6]\n",
        "num1.extend(num2)\n",
        "print('Numbers:', num1)\n",
        "negative_numbers = [-5,-4,-3,-2,-1]\n",
        "positive_numbers = [1, 2, 3,4,5]\n",
        "zero = [0]"
      ],
      "metadata": {
        "id": "SBs2aTWY06TQ",
        "colab": {
          "base_uri": "https://localhost:8080/"
        },
        "outputId": "354d19e2-cdfc-41f5-d15e-4309ecd574b6"
      },
      "execution_count": null,
      "outputs": [
        {
          "output_type": "stream",
          "name": "stdout",
          "text": [
            "Numbers: [0, 1, 2, 3, 4, 5, 6]\n"
          ]
        }
      ]
    },
    {
      "cell_type": "code",
      "source": [
        "# count: Returns the occurence of item within a list\n",
        "fruits = ['banana', 'orange', 'mango', 'lemon']\n",
        "print(fruits.count('orange'))   # 1\n",
        "\n",
        "ages = [22, 19, 24, 25, 26, 24, 25, 24]\n",
        "print(ages.count(24))           # 3"
      ],
      "metadata": {
        "id": "Q9ByHE9p1BkP",
        "colab": {
          "base_uri": "https://localhost:8080/"
        },
        "outputId": "1ed04ce7-9b1c-40ab-f377-6e242c644a8b"
      },
      "execution_count": null,
      "outputs": [
        {
          "output_type": "stream",
          "name": "stdout",
          "text": [
            "1\n",
            "3\n"
          ]
        }
      ]
    },
    {
      "cell_type": "code",
      "source": [
        "# index: Position of an item within a list\n",
        "fruits = ['banana', 'orange', 'mango', 'lemon']\n",
        "print(fruits.index('orange'))   # 1\n",
        "\n",
        "ages = [22, 19, 24, 25, 26, 24, 25, 24]\n",
        "print(ages.index(24))"
      ],
      "metadata": {
        "id": "6RGtX1E41Ejw",
        "colab": {
          "base_uri": "https://localhost:8080/"
        },
        "outputId": "79cbe101-3ab1-4b99-e610-6f92fb75dd20"
      },
      "execution_count": null,
      "outputs": [
        {
          "output_type": "stream",
          "name": "stdout",
          "text": [
            "1\n",
            "2\n"
          ]
        }
      ]
    },
    {
      "cell_type": "code",
      "source": [
        "# Reverse\n",
        "fruits = ['banana', 'orange', 'mango', 'lemon']\n",
        "fruits.reverse()\n",
        "print(fruits)\n",
        "\n",
        "print('==================')\n",
        "\n",
        "ages = [22, 19, 24, 25, 26, 24, 25, 24]\n",
        "ages.reverse()\n",
        "\n",
        "print(ages)"
      ],
      "metadata": {
        "id": "Pwx0Tiqt1Hjn",
        "colab": {
          "base_uri": "https://localhost:8080/"
        },
        "outputId": "75ecd949-ad99-4465-9f85-4b002c9c1af1"
      },
      "execution_count": null,
      "outputs": [
        {
          "output_type": "stream",
          "name": "stdout",
          "text": [
            "['lemon', 'mango', 'orange', 'banana']\n",
            "==================\n",
            "[24, 25, 24, 26, 25, 24, 19, 22]\n"
          ]
        }
      ]
    },
    {
      "cell_type": "code",
      "source": [
        "# sort\n",
        "# 1.Ascending Order -> sort()\n",
        "# 2.Descending Order -> sort(reverse=True)\n",
        "fruits = ['banana', 'orange', 'mango', 'lemon']\n",
        "fruits.sort()\n",
        "print(fruits)\n",
        "print('============')\n",
        "\n",
        "fruits.sort(reverse=True)\n",
        "print(fruits)\n",
        "print('============')\n",
        "\n",
        "ages = [22, 19, 24, 25, 26, 24, 25, 24]\n",
        "ages.sort()\n",
        "print(ages)\n",
        "\n",
        "print('============')\n",
        "\n",
        "ages.sort(reverse=True)\n",
        "print(ages)"
      ],
      "metadata": {
        "id": "LM_bROTx1Lqf",
        "colab": {
          "base_uri": "https://localhost:8080/"
        },
        "outputId": "29db7dad-9d39-4b2e-9f98-1b3cb933b60b"
      },
      "execution_count": null,
      "outputs": [
        {
          "output_type": "stream",
          "name": "stdout",
          "text": [
            "['banana', 'lemon', 'mango', 'orange']\n",
            "============\n",
            "['orange', 'mango', 'lemon', 'banana']\n",
            "============\n",
            "[19, 22, 24, 24, 24, 25, 25, 26]\n",
            "============\n",
            "[26, 25, 25, 24, 24, 24, 22, 19]\n"
          ]
        }
      ]
    }
  ]
}