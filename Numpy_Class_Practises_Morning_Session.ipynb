{
  "nbformat": 4,
  "nbformat_minor": 0,
  "metadata": {
    "colab": {
      "provenance": [],
      "include_colab_link": true
    },
    "kernelspec": {
      "name": "python3",
      "display_name": "Python 3"
    },
    "language_info": {
      "name": "python"
    }
  },
  "cells": [
    {
      "cell_type": "markdown",
      "metadata": {
        "id": "view-in-github",
        "colab_type": "text"
      },
      "source": [
        "<a href=\"https://colab.research.google.com/github/peter-kiilu/python_course/blob/main/Numpy_Class_Practises_Morning_Session.ipynb\" target=\"_parent\"><img src=\"https://colab.research.google.com/assets/colab-badge.svg\" alt=\"Open In Colab\"/></a>"
      ]
    },
    {
      "cell_type": "code",
      "execution_count": null,
      "metadata": {
        "colab": {
          "base_uri": "https://localhost:8080/"
        },
        "id": "4Ck8VnFKoM5H",
        "outputId": "4fe8d6d1-777d-4dd4-98c3-a57bd144d02f"
      },
      "outputs": [
        {
          "output_type": "stream",
          "name": "stdout",
          "text": [
            "Requirement already satisfied: numpy in /usr/local/lib/python3.11/dist-packages (1.26.4)\n"
          ]
        }
      ],
      "source": [
        "!pip install numpy\n"
      ]
    },
    {
      "cell_type": "code",
      "source": [
        "import numpy as np\n"
      ],
      "metadata": {
        "id": "fnVSALEWpS_B"
      },
      "execution_count": null,
      "outputs": []
    },
    {
      "cell_type": "code",
      "source": [
        "# Numpy as a Numerical Compuation Library: Linear Algebra(matrices & vectors), Calculus, Statistical\n",
        "\n",
        "# OBJECTIVES:\n",
        "# a) Understand numpy arrays (ndarrays) and thier properties\n",
        "# b) Create a numpy array using built-in functions in numpy: Data Mining\n",
        "# c) Index and Slice information from a numpy array: Data Extraction\n",
        "# d) Mathematical and Statistical process in a numpy: Data Manipulation\n",
        "# e) Reshape and Transpose Data in a Numpy array: Data Tranformation"
      ],
      "metadata": {
        "id": "G-aP2gEEtVro"
      },
      "execution_count": null,
      "outputs": []
    },
    {
      "cell_type": "code",
      "source": [
        "# CREATING A NUMPY ARRAY\n",
        "# Using np.array(list, tuple, range()), we can convert these sequence datatypes to numpy arrays\n",
        "\n",
        "# 1. List\n",
        "student_marks = [89, 56, 67, 90, 45]\n",
        "print(type(student_marks))\n",
        "\n",
        "# Converting a python list to a numpy array\n",
        "import numpy as np\n",
        "student_marks_array = np.array(student_marks)\n",
        "print(type(student_marks_array))\n",
        "\n",
        "\n",
        "# 2. Tuple\n",
        "student_marks = (89, 56, 67, 90, 45)\n",
        "print(type(student_marks))\n",
        "\n",
        "student_marks_array = np.array(student_marks)\n",
        "print(type(student_marks_array))\n",
        "\n",
        "\n",
        "# 3. range()\n",
        "student_reg_numbers = range(1001, 1006)\n",
        "print(type(student_reg_numbers))\n",
        "\n",
        "student_reg_numbers_array = np.array(student_reg_numbers)\n",
        "print(type(student_reg_numbers_array))"
      ],
      "metadata": {
        "colab": {
          "base_uri": "https://localhost:8080/"
        },
        "id": "ve3MaEQIwdI4",
        "outputId": "9df4ca0d-b75f-46f7-c581-d2fd1babd2e7"
      },
      "execution_count": null,
      "outputs": [
        {
          "output_type": "stream",
          "name": "stdout",
          "text": [
            "<class 'list'>\n",
            "<class 'numpy.ndarray'>\n",
            "<class 'tuple'>\n",
            "<class 'numpy.ndarray'>\n",
            "<class 'range'>\n",
            "<class 'numpy.ndarray'>\n"
          ]
        }
      ]
    },
    {
      "cell_type": "code",
      "source": [
        "# 1D Array\n",
        "# NB: A numpy array can only store values of the same DataType(Homogenous)\n",
        "import numpy as np\n",
        "arr1 = np.array([1, 2, 3, 4, 5])\n",
        "print(arr1)\n",
        "\n",
        "# Properties\n",
        "\n",
        "print(arr1.shape)  # Shape of the array\n",
        "print(arr1.ndim)   # Number of dimensions\n",
        "print(arr1.size)   # Total number of elements\n",
        "print(arr1.dtype)  # Data type of elements"
      ],
      "metadata": {
        "colab": {
          "base_uri": "https://localhost:8080/"
        },
        "id": "e_y-_trAysxA",
        "outputId": "7579ed1f-3ec3-4111-d530-4efbc1e3f13b"
      },
      "execution_count": null,
      "outputs": [
        {
          "output_type": "stream",
          "name": "stdout",
          "text": [
            "[1 2 3 4 5]\n",
            "(5,)\n",
            "1\n",
            "5\n",
            "int64\n"
          ]
        }
      ]
    },
    {
      "cell_type": "code",
      "source": [
        "# 2D Array\n",
        "arr2 = np.array([[1, 2, 3], [4, 5, 6]])\n",
        "print(arr2)\n",
        "\n",
        "print('=========')\n",
        "\n",
        "print(arr2.shape)  # Shape of the array(The Number of Rows and Columns)\n",
        "print(arr2.ndim)   # Number of dimensions\n",
        "print(arr2.size)   # Total number of elements\n",
        "print(arr2.dtype)  # Data type of elements"
      ],
      "metadata": {
        "colab": {
          "base_uri": "https://localhost:8080/"
        },
        "id": "El4Ok7kaz-TA",
        "outputId": "45529991-ec26-4723-c56f-06b88b476442"
      },
      "execution_count": null,
      "outputs": [
        {
          "output_type": "stream",
          "name": "stdout",
          "text": [
            "[[1 2 3]\n",
            " [4 5 6]]\n",
            "=========\n",
            "(2, 3)\n",
            "2\n",
            "6\n",
            "int64\n"
          ]
        }
      ]
    },
    {
      "cell_type": "code",
      "source": [
        "arr3 = np.array([[[1, 2], [3, 4]], [[5, 6], [7, 8]]])\n",
        "print(arr3)\n",
        "\n",
        "print('=========')\n",
        "\n",
        "print(arr3.shape)  # Shape of the array(The Number of Rows and Columns)\n",
        "print(arr3.ndim)   # Number of dimensions\n",
        "print(arr3.size)   # Total number of elements\n",
        "print(arr3.dtype)"
      ],
      "metadata": {
        "colab": {
          "base_uri": "https://localhost:8080/"
        },
        "id": "3Ww2Gm0s2BSh",
        "outputId": "9dc07621-83c3-465f-a5ee-e0aeb0cb24d4"
      },
      "execution_count": null,
      "outputs": [
        {
          "output_type": "stream",
          "name": "stdout",
          "text": [
            "[[[1 2]\n",
            "  [3 4]]\n",
            "\n",
            " [[5 6]\n",
            "  [7 8]]]\n",
            "=========\n",
            "(2, 2, 2)\n",
            "3\n",
            "8\n",
            "int64\n"
          ]
        }
      ]
    },
    {
      "cell_type": "code",
      "source": [
        "# Creating Numpy Arrays using Built-in Functions\n",
        "# a) np.ones() and np.zeros(): Creates an array with zeros and ones as float datatype\n",
        "np.ones((3,3))\n",
        "np.zeros((2,3))"
      ],
      "metadata": {
        "colab": {
          "base_uri": "https://localhost:8080/"
        },
        "id": "dcl7v8j43m6Z",
        "outputId": "6751f0a1-a475-4e57-cd68-0bee909ad5a4"
      },
      "execution_count": null,
      "outputs": [
        {
          "output_type": "execute_result",
          "data": {
            "text/plain": [
              "array([[0., 0., 0.],\n",
              "       [0., 0., 0.]])"
            ]
          },
          "metadata": {},
          "execution_count": 28
        }
      ]
    },
    {
      "cell_type": "code",
      "source": [
        "# b) Identity Matrix\n",
        "identity_matrix = np.eye(3)  # 4x4 Identity matrix\n",
        "identity_matrix"
      ],
      "metadata": {
        "colab": {
          "base_uri": "https://localhost:8080/"
        },
        "id": "7uyLpHLc5VtK",
        "outputId": "a3379739-0b66-44ec-8393-73882f52367a"
      },
      "execution_count": null,
      "outputs": [
        {
          "output_type": "execute_result",
          "data": {
            "text/plain": [
              "array([[1., 0., 0.],\n",
              "       [0., 1., 0.],\n",
              "       [0., 0., 1.]])"
            ]
          },
          "metadata": {},
          "execution_count": 47
        }
      ]
    },
    {
      "cell_type": "code",
      "source": [
        "# c) Using random arrays\n",
        "# i) As Floats\n",
        "rand_array = np.random.rand(3, 3)  # Random values between 0 and 1: Flaot64 By Default\n",
        "rand_array\n",
        "\n",
        "# ii) As Integers\n",
        "rand_ints = np.random.randint(1, 20, (3, 3))  # Random integers\n",
        "rand_ints"
      ],
      "metadata": {
        "colab": {
          "base_uri": "https://localhost:8080/"
        },
        "id": "stkzULpG5v7p",
        "outputId": "6082ebd7-f80f-452e-d166-e346f797a5b1"
      },
      "execution_count": null,
      "outputs": [
        {
          "output_type": "execute_result",
          "data": {
            "text/plain": [
              "array([[16, 14, 13],\n",
              "       [11, 16, 12],\n",
              "       [18,  4,  4]])"
            ]
          },
          "metadata": {},
          "execution_count": 38
        }
      ]
    },
    {
      "cell_type": "code",
      "source": [
        "# d) Sequences\n",
        "# i) np.arange(start, stop, step)\n",
        "range_array = np.arange(0, 10, 2)  # [0, 2, 4, 6, 8]\n",
        "range_array\n",
        "\n",
        "# ii) np.linspace()\n",
        "linspace_array = np.linspace(0, 100, 5)  # [0, 2.5, 5, 7.5, 10]\n",
        "linspace_array"
      ],
      "metadata": {
        "colab": {
          "base_uri": "https://localhost:8080/"
        },
        "id": "Aa_A7nW16v67",
        "outputId": "bcb35368-3de2-4447-a519-33e807b34070"
      },
      "execution_count": null,
      "outputs": [
        {
          "output_type": "execute_result",
          "data": {
            "text/plain": [
              "array([  0.,  25.,  50.,  75., 100.])"
            ]
          },
          "metadata": {},
          "execution_count": 46
        }
      ]
    },
    {
      "cell_type": "code",
      "source": [
        "# Objective 3: Indexing and Slicing Numpy Arrays\n",
        "# Extract information stored in a Numpy Array\n",
        "\n",
        "# i) Indexing a 1D Array\n",
        "arr = np.array([10, 20, 30, 40, 50])\n",
        "print(arr[1])    # Accessing element at index 1 (20)\n",
        "print(arr[-1])   # Accessing last element (50)\n",
        "\n",
        "# Slicing 1D Array\n",
        "arr = np.array([10, 20, 30, 40, 50])\n",
        "print(arr[1:4])  # Accessing elements from index 1 to 3 (20, 30, 40)\n"
      ],
      "metadata": {
        "colab": {
          "base_uri": "https://localhost:8080/"
        },
        "id": "6Pp05iLM8VmA",
        "outputId": "c7fe324f-9044-4780-fec9-21220f8011cf"
      },
      "execution_count": null,
      "outputs": [
        {
          "output_type": "stream",
          "name": "stdout",
          "text": [
            "20\n",
            "50\n",
            "[20 30 40]\n"
          ]
        }
      ]
    },
    {
      "cell_type": "code",
      "source": [
        "# ii) Indexing and Slicing 2D Array\n",
        "# 2D -> (rows, columns)\n",
        "arr2d = np.array([[1, 2, 3], [4, 5, 6], [7, 8, 9]])\n",
        "print(arr2d)\n",
        "\n",
        "print('===========')\n",
        "\n",
        "print(arr2d[0, :])  # First row\n",
        "\n",
        "print('============')\n",
        "\n",
        "print(arr2d[:, 1])  # Second column"
      ],
      "metadata": {
        "colab": {
          "base_uri": "https://localhost:8080/"
        },
        "id": "vp8a94Q89PzB",
        "outputId": "b6422971-c2fa-4fb2-b75c-36f08a4288e8"
      },
      "execution_count": null,
      "outputs": [
        {
          "output_type": "stream",
          "name": "stdout",
          "text": [
            "[[1 2 3]\n",
            " [4 5 6]\n",
            " [7 8 9]]\n",
            "===========\n",
            "[1 2 3]\n",
            "============\n",
            "[2 5 8]\n"
          ]
        }
      ]
    },
    {
      "cell_type": "code",
      "source": [
        "# Objective 4: Mathematical and Statistical Operation\n",
        "# i) Mathematical\n",
        "arr = np.array([1, 2, 3, 4])\n",
        "print(arr + 2)  # [3 4 5 6]\n",
        "print(arr * 2)  # [2 4 6 8]\n",
        "\n",
        "print('============')\n",
        "\n",
        "arr1 = np.array([1, 2, 3])\n",
        "arr2 = np.array([4, 5, 6])\n",
        "print(arr1 + arr2)  # [5 7 9]"
      ],
      "metadata": {
        "colab": {
          "base_uri": "https://localhost:8080/"
        },
        "id": "mwqfifzh_Pia",
        "outputId": "39e96984-3ddc-4cd9-e62a-ec02195da2c7"
      },
      "execution_count": null,
      "outputs": [
        {
          "output_type": "stream",
          "name": "stdout",
          "text": [
            "[3 4 5 6]\n",
            "[2 4 6 8]\n",
            "============\n",
            "[5 7 9]\n"
          ]
        }
      ]
    },
    {
      "cell_type": "code",
      "source": [
        "# ii) Statistical\n",
        "arr = np.array([1, 2, 3, 4, 5])\n",
        "\n",
        "print(np.mean(arr))  # Mean\n",
        "print(np.median(arr))  # Median\n",
        "print(np.std(arr))  # Standard deviation\n",
        "print(np.var(arr))  # Variance\n",
        "print(np.sum(arr))  # Sum\n",
        "print(np.min(arr))  # Minimum\n",
        "print(np.max(arr))  # Maximum\n",
        "print(np.sort(arr))  # Sort\n"
      ],
      "metadata": {
        "colab": {
          "base_uri": "https://localhost:8080/"
        },
        "id": "jDFyo7B9AD4j",
        "outputId": "c65fb119-dd3c-4b95-cdcd-504c4dafedb3"
      },
      "execution_count": null,
      "outputs": [
        {
          "output_type": "stream",
          "name": "stdout",
          "text": [
            "3.0\n",
            "3.0\n",
            "1.4142135623730951\n",
            "2.0\n",
            "15\n",
            "1\n",
            "5\n",
            "[1 2 3 4 5]\n"
          ]
        }
      ]
    },
    {
      "cell_type": "code",
      "source": [
        "# Objective 5: Reshaping and Transposing\n",
        "# i) Reshaping: Rearranging the Numpy Array\n",
        "arr = np.array([[1, 2, 3], [4, 5, 6]])\n",
        "print(arr)\n",
        "\n",
        "print('========')\n",
        "\n",
        "reshaped = arr.reshape(3, 2)\n",
        "print(reshaped)"
      ],
      "metadata": {
        "colab": {
          "base_uri": "https://localhost:8080/"
        },
        "id": "qQKCoGhBBHrS",
        "outputId": "3ddf69d3-2263-4f3a-a271-a16b3560779d"
      },
      "execution_count": null,
      "outputs": [
        {
          "output_type": "stream",
          "name": "stdout",
          "text": [
            "[[1 2 3]\n",
            " [4 5 6]]\n",
            "========\n",
            "[[1 2]\n",
            " [3 4]\n",
            " [5 6]]\n"
          ]
        }
      ]
    },
    {
      "cell_type": "code",
      "source": [
        "# ii) Transposing: Converting row as columns and vice versa\n",
        "arr = np.array([[1, 2, 3], [4, 5, 6]])\n",
        "print(arr)\n",
        "\n",
        "print('========')\n",
        "\n",
        "transposed = arr.T\n",
        "print(transposed)"
      ],
      "metadata": {
        "colab": {
          "base_uri": "https://localhost:8080/"
        },
        "id": "0JIt1RE4BoOS",
        "outputId": "12a623e4-4622-4a9f-e23f-b108d3b9d3c3"
      },
      "execution_count": null,
      "outputs": [
        {
          "output_type": "stream",
          "name": "stdout",
          "text": [
            "[[1 2 3]\n",
            " [4 5 6]]\n",
            "========\n",
            "[[1 4]\n",
            " [2 5]\n",
            " [3 6]]\n"
          ]
        }
      ]
    }
  ]
}