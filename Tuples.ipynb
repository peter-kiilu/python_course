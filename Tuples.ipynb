{
  "nbformat": 4,
  "nbformat_minor": 0,
  "metadata": {
    "colab": {
      "provenance": []
    },
    "kernelspec": {
      "name": "python3",
      "display_name": "Python 3"
    },
    "language_info": {
      "name": "python"
    }
  },
  "cells": [
    {
      "cell_type": "markdown",
      "source": [
        "<div align=\"center\">\n",
        "  <h1> Python for Data Science - Tuples</h1>\n",
        "  <a class=\"header-badge\" target=\"_blank\" href=\"https://www.linkedin.com/company/martial-school-of-it/\">\n",
        "  <img src=\"https://school.martial.co.ke/wp-content/uploads/2024/07/Logo-1.3-01.png\">\n",
        "\n",
        "<sub>Author:\n",
        "<a href=\"https://www.linkedin.com/in/onyango-eric-otieno-944ba320a/\" target=\"_blank\">Erick Otieno</a><br>\n",
        "<small> Python for Data Science, Jan 2025 Cohort</small>\n",
        "</sub>\n",
        "\n",
        "</div>"
      ],
      "metadata": {
        "id": "bkGBYuTDnFsD"
      }
    },
    {
      "cell_type": "markdown",
      "source": [
        "## Tuples\n",
        "\n",
        "A tuple is a collection of different data types which is ordered and unchangeable (immutable). Tuples are written with round brackets, (). Once a tuple is created, we cannot change its values. We cannot use add, insert, remove methods in a tuple because it is not modifiable (mutable). Unlike list, tuple has few methods. Methods related to tuples:\n",
        "\n",
        "- tuple(): to create an empty tuple\n",
        "- count(): to count the number of a specified item in a tuple\n",
        "- index(): to find the index of a specified item in a tuple\n",
        "- + operator: to join two or more tuples and to create a new tuple\n"
      ],
      "metadata": {
        "id": "KP8B7QMEnd67"
      }
    },
    {
      "cell_type": "markdown",
      "source": [
        "### Creating a Tuple\n",
        "\n",
        "- Empty tuple: Creating an empty tuple\n",
        "  \n",
        "  ```py\n",
        "  # syntax\n",
        "  empty_tuple = ()\n",
        "  # or using the tuple constructor\n",
        "  empty_tuple = tuple()\n",
        "  ```\n",
        "\n",
        "- Tuple with initial values\n",
        "  \n",
        "  ```py\n",
        "  # syntax\n",
        "  tpl = ('item1', 'item2','item3')\n",
        "  ```\n",
        "\n",
        "  ```py\n",
        "  fruits = ('banana', 'orange', 'mango', 'lemon')\n",
        "    ```"
      ],
      "metadata": {
        "id": "eD9k-wTloVWD"
      }
    },
    {
      "cell_type": "markdown",
      "source": [
        "### Tuple length\n",
        "\n",
        "We use the _len()_ method to get the length of a tuple.\n",
        "\n",
        "```py\n",
        "# syntax\n",
        "tpl = ('item1', 'item2', 'item3')\n",
        "len(tpl)\n",
        "```"
      ],
      "metadata": {
        "id": "aL7gOZJkomcj"
      }
    },
    {
      "cell_type": "markdown",
      "source": [
        "### Accessing Tuple Items\n",
        "\n",
        "- Positive Indexing\n",
        "  Similar to the list data type we use positive or negative indexing to access tuple items.\n",
        "  ![Accessing tuple items](https://files.realpython.com/media/t.c11ea56e8ca2.png)\n",
        "\n",
        "  ```py\n",
        "  # Syntax\n",
        "  tpl = ('item1', 'item2', 'item3')\n",
        "  first_item = tpl[0]\n",
        "  second_item = tpl[1]\n",
        "  ```\n",
        "\n",
        "  ```py\n",
        "  fruits = ('banana', 'orange', 'mango', 'lemon')\n",
        "  first_fruit = fruits[0]\n",
        "  second_fruit = fruits[1]\n",
        "  last_index =len(fruits) - 1\n",
        "  last_fruit = fruits[las_index]\n",
        "  ```\n",
        "\n",
        "- Negative indexing\n",
        "  Negative indexing means beginning from the end, -1 refers to the last item, -2 refers to the second last and the negative of the list/tuple length refers to the first item.\n",
        "  ![Tuple Negative indexing](https://files.realpython.com/media/t.c11ea56e8ca2.png)\n",
        "\n",
        "  ```py\n",
        "  # Syntax\n",
        "  tpl = ('item1', 'item2', 'item3','item4')\n",
        "  first_item = tpl[-4]\n",
        "  second_item = tpl[-3]\n",
        "  ```\n",
        "\n",
        "  ```py\n",
        "  fruits = ('banana', 'orange', 'mango', 'lemon')\n",
        "  first_fruit = fruits[-4]\n",
        "  second_fruit = fruits[-3]\n",
        "  last_fruit = fruits[-1]\n",
        "  ```"
      ],
      "metadata": {
        "id": "NaT0cwrBotdr"
      }
    },
    {
      "cell_type": "markdown",
      "source": [
        "### Slicing tuples\n",
        "\n",
        "We can slice out a sub-tuple by specifying a range of indexes where to start and where to end in the tuple, the return value will be a new tuple with the specified items.\n",
        "\n",
        "- Range of Positive Indexes\n",
        "\n",
        "  ```py\n",
        "  # Syntax\n",
        "  tpl = ('item1', 'item2', 'item3','item4')\n",
        "  all_items = tpl[0:4]         # all items\n",
        "  all_items = tpl[0:]         # all items\n",
        "  middle_two_items = tpl[1:3]  # does not include item at index 3\n",
        "  ```\n",
        "\n",
        "  ```py\n",
        "  fruits = ('banana', 'orange', 'mango', 'lemon')\n",
        "  all_fruits = fruits[0:4]    # all items\n",
        "  all_fruits= fruits[0:]      # all items\n",
        "  orange_mango = fruits[1:3]  # doesn't include item at index 3\n",
        "  orange_to_the_rest = fruits[1:]\n",
        "  ```\n",
        "\n",
        "- Range of Negative Indexes\n",
        "\n",
        "  ```py\n",
        "  # Syntax\n",
        "  tpl = ('item1', 'item2', 'item3','item4')\n",
        "  all_items = tpl[-4:]         # all items\n",
        "  middle_two_items = tpl[-3:-1]  # does not include item at index 3 (-1)\n",
        "  ```\n",
        "\n",
        "  ```py\n",
        "  fruits = ('banana', 'orange', 'mango', 'lemon')\n",
        "  all_fruits = fruits[-4:]    # all items\n",
        "  orange_mango = fruits[-3:-1]  # doesn't include item at index 3\n",
        "  orange_to_the_rest = fruits[-3:]\n",
        "  ```\n",
        "### Slicing tuples\n",
        "\n",
        "We can slice out a sub-tuple by specifying a range of indexes where to start and where to end in the tuple, the return value will be a new tuple with the specified items.\n",
        "\n",
        "- Range of Positive Indexes\n",
        "\n",
        "  ```py\n",
        "  # Syntax\n",
        "  tpl = ('item1', 'item2', 'item3','item4')\n",
        "  all_items = tpl[0:4]         # all items\n",
        "  all_items = tpl[0:]         # all items\n",
        "  middle_two_items = tpl[1:3]  # does not include item at index 3\n",
        "  ```\n",
        "\n",
        "  ```py\n",
        "  fruits = ('banana', 'orange', 'mango', 'lemon')\n",
        "  all_fruits = fruits[0:4]    # all items\n",
        "  all_fruits= fruits[0:]      # all items\n",
        "  orange_mango = fruits[1:3]  # doesn't include item at index 3\n",
        "  orange_to_the_rest = fruits[1:]\n",
        "  ```\n",
        "\n",
        "- Range of Negative Indexes\n",
        "\n",
        "  ```py\n",
        "  # Syntax\n",
        "  tpl = ('item1', 'item2', 'item3','item4')\n",
        "  all_items = tpl[-4:]         # all items\n",
        "  middle_two_items = tpl[-3:-1]  # does not include item at index 3 (-1)\n",
        "  ```\n",
        "\n",
        "  ```py\n",
        "  fruits = ('banana', 'orange', 'mango', 'lemon')\n",
        "  all_fruits = fruits[-4:]    # all items\n",
        "  orange_mango = fruits[-3:-1]  # doesn't include item at index 3\n",
        "  orange_to_the_rest = fruits[-3:]\n",
        "  ```\n"
      ],
      "metadata": {
        "id": "H6UARcNPpoHD"
      }
    },
    {
      "cell_type": "markdown",
      "source": [
        "### Changing Tuples to Lists\n",
        "\n",
        "We can change tuples to lists and lists to tuples. Tuple is immutable if we want to modify a tuple we should change it to a list.\n",
        "\n",
        "```py\n",
        "# Syntax\n",
        "tpl = ('item1', 'item2', 'item3','item4')\n",
        "lst = list(tpl)\n",
        "```\n",
        "\n",
        "```py\n",
        "fruits = ('banana', 'orange', 'mango', 'lemon')\n",
        "fruits = list(fruits)\n",
        "fruits[0] = 'apple'\n",
        "print(fruits)     # ['apple', 'orange', 'mango', 'lemon']\n",
        "fruits = tuple(fruits)\n",
        "print(fruits)     # ('apple', 'orange', 'mango', 'lemon')\n",
        "```"
      ],
      "metadata": {
        "id": "nYvZnD7Spy6T"
      }
    },
    {
      "cell_type": "markdown",
      "source": [
        "### Checking an Item in a Tuple\n",
        "\n",
        "We can check if an item exists or not in a tuple using _in_, it returns a boolean.\n",
        "\n",
        "```py\n",
        "# Syntax\n",
        "tpl = ('item1', 'item2', 'item3','item4')\n",
        "'item2' in tpl # True\n",
        "```\n",
        "\n",
        "```py\n",
        "fruits = ('banana', 'orange', 'mango', 'lemon')\n",
        "print('orange' in fruits) # True\n",
        "print('apple' in fruits) # False\n",
        "fruits[0] = 'apple' # TypeError: 'tuple' object does not support item assignment\n",
        "```"
      ],
      "metadata": {
        "id": "qFgIzL_8p-Br"
      }
    },
    {
      "cell_type": "markdown",
      "source": [],
      "metadata": {
        "id": "pEvEcZoBqB07"
      }
    },
    {
      "cell_type": "markdown",
      "source": [
        "### Joining Tuples\n",
        "\n",
        "We can join two or more tuples using + operator\n",
        "\n",
        "```py\n",
        "# syntax\n",
        "tpl1 = ('item1', 'item2', 'item3')\n",
        "tpl2 = ('item4', 'item5','item6')\n",
        "tpl3 = tpl1 + tpl2\n",
        "```\n",
        "\n",
        "```py\n",
        "fruits = ('banana', 'orange', 'mango', 'lemon')\n",
        "vegetables = ('Tomato', 'Potato', 'Cabbage','Onion', 'Carrot')\n",
        "fruits_and_vegetables = fruits + vegetables\n",
        "```"
      ],
      "metadata": {
        "id": "UJL10qZ9qB15"
      }
    },
    {
      "cell_type": "markdown",
      "source": [
        "### Deleting Tuples\n",
        "\n",
        "It is not possible to remove a single item in a tuple but it is possible to delete the tuple itself using _del_.\n",
        "\n",
        "```py\n",
        "# syntax\n",
        "tpl1 = ('item1', 'item2', 'item3')\n",
        "del tpl1\n",
        "\n",
        "```\n",
        "\n",
        "```py\n",
        "fruits = ('banana', 'orange', 'mango', 'lemon')\n",
        "del fruits\n",
        "```\n",
        "\n",
        "🌕 You are so brave, you made it to this far. You have just completed day 6 challenges and you are 6 steps a head in to your way to greatness. Now do some exercises for your brain and for your muscle."
      ],
      "metadata": {
        "id": "sDOZOTBXqGYj"
      }
    }
  ]
}