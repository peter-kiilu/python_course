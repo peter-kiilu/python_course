{
  "nbformat": 4,
  "nbformat_minor": 0,
  "metadata": {
    "colab": {
      "provenance": [],
      "include_colab_link": true
    },
    "kernelspec": {
      "name": "python3",
      "display_name": "Python 3"
    },
    "language_info": {
      "name": "python"
    }
  },
  "cells": [
    {
      "cell_type": "markdown",
      "metadata": {
        "id": "view-in-github",
        "colab_type": "text"
      },
      "source": [
        "<a href=\"https://colab.research.google.com/github/peter-kiilu/python_course/blob/main/Strings_and_thier_Operations.ipynb\" target=\"_parent\"><img src=\"https://colab.research.google.com/assets/colab-badge.svg\" alt=\"Open In Colab\"/></a>"
      ]
    },
    {
      "cell_type": "code",
      "execution_count": null,
      "metadata": {
        "id": "B34wLUeKwpht",
        "colab": {
          "base_uri": "https://localhost:8080/"
        },
        "outputId": "18b7816f-6bbc-4e5d-bd7c-a987938fc4eb"
      },
      "outputs": [
        {
          "output_type": "stream",
          "name": "stdout",
          "text": [
            "P\n",
            "1\n",
            "Hello,  World!\n",
            "14\n",
            "I hope you are enjoying 30 days of python challenge\n"
          ]
        }
      ],
      "source": [
        "#1. Single line strings\n",
        "letter = 'P'                # A string could be a single character or a bunch of texts\n",
        "print(letter)               # P\n",
        "print(len(letter))          # 1\n",
        "greeting = 'Hello,  World!'  # String could be  a single or double quote,\"Hello, World!\"\n",
        "print(greeting)             # Hello, World!\n",
        "print(len(greeting))        # 13\n",
        "sentence = \"I hope you are enjoying 30 days of python challenge\"\n",
        "print(sentence)"
      ]
    },
    {
      "cell_type": "code",
      "source": [
        "#2. Multiline String\n",
        "multiline_string = '''I am a teacher and enjoy teaching.\n",
        "I didn't find anything as rewarding as empowering people.\n",
        "That is why I created 30 days of python.'''\n",
        "\n",
        "print(multiline_string)\n",
        "# Another way of doing the same thing\n",
        "multiline_string = \"\"\"I am a teacher and enjoy teaching.\n",
        "I didn't find anything as rewarding as empowering people.\n",
        "That is why I created 30 days of python.\"\"\"\n",
        "print(multiline_string)"
      ],
      "metadata": {
        "id": "TiJouHbuw7Th",
        "colab": {
          "base_uri": "https://localhost:8080/"
        },
        "outputId": "798dcf0d-f484-4a0c-909c-dbd217bead05"
      },
      "execution_count": null,
      "outputs": [
        {
          "output_type": "stream",
          "name": "stdout",
          "text": [
            "I am a teacher and enjoy teaching.\n",
            "I didn't find anything as rewarding as empowering people.\n",
            "That is why I created 30 days of python.\n",
            "I am a teacher and enjoy teaching.\n",
            "I didn't find anything as rewarding as empowering people.\n",
            "That is why I created 30 days of python.\n"
          ]
        }
      ]
    },
    {
      "cell_type": "code",
      "source": [
        "# String Concatenation\n",
        "first_name = 'Asabeneh '\n",
        "last_name = 'Yetayeh'\n",
        "space = '@'\n",
        "full_name = first_name   + last_name\n",
        "print(full_name) # Asabeneh Yetayeh\n",
        "\n",
        "# Checking length of a string using len() builtin function\n",
        "print(len(first_name))  # 8\n",
        "print(len(last_name))   # 7\n",
        "print(len(first_name) > len(last_name)) # True\n",
        "print(len(full_name)) # 16"
      ],
      "metadata": {
        "id": "gplV1scixLy3",
        "colab": {
          "base_uri": "https://localhost:8080/"
        },
        "outputId": "a3cf628a-f833-433a-b866-62589ef50f39"
      },
      "execution_count": null,
      "outputs": [
        {
          "output_type": "stream",
          "name": "stdout",
          "text": [
            "Asabeneh Yetayeh\n",
            "9\n",
            "7\n",
            "True\n",
            "16\n"
          ]
        }
      ]
    },
    {
      "cell_type": "code",
      "source": [
        "#### Unpacking characters\n",
        "language = 'Python'\n",
        "a,b,c,d,e,f = language # unpacking sequence characters into variables\n",
        "print(a) # P\n",
        "print(b) # y\n",
        "print(c) # t\n",
        "print(d) # h\n",
        "print(e) # o\n",
        "print(f) # n"
      ],
      "metadata": {
        "id": "AUwWRF2MxRRX",
        "colab": {
          "base_uri": "https://localhost:8080/"
        },
        "outputId": "6b515346-1646-4eca-ab05-91245b1982c4"
      },
      "execution_count": null,
      "outputs": [
        {
          "output_type": "stream",
          "name": "stdout",
          "text": [
            "P\n",
            "y\n",
            "t\n",
            "h\n",
            "o\n",
            "n\n"
          ]
        }
      ]
    },
    {
      "cell_type": "code",
      "source": [
        "# Accessing characters in strings by index\n",
        "language = 'Python'\n",
        "first_letter = language[0]\n",
        "print(first_letter) # P\n",
        "second_letter = language[1]\n",
        "print(second_letter) # y\n",
        "last_index = len(language) - 1\n",
        "last_letter = language[last_index]\n",
        "print(last_letter) # n"
      ],
      "metadata": {
        "id": "_VKH40S7xU6v",
        "colab": {
          "base_uri": "https://localhost:8080/"
        },
        "outputId": "43d0e1af-1d27-4a2c-de23-31f951ee05c4"
      },
      "execution_count": null,
      "outputs": [
        {
          "output_type": "stream",
          "name": "stdout",
          "text": [
            "P\n",
            "y\n",
            "n\n"
          ]
        }
      ]
    },
    {
      "cell_type": "code",
      "source": [
        "# If we want to start from right end we can use negative indexing. -1 is the last index\n",
        "language = 'Python'\n",
        "last_letter = language[-1]\n",
        "print(last_letter) # n\n",
        "second_last = language[-2]\n",
        "print(second_last) # o\n"
      ],
      "metadata": {
        "id": "s_Safa8txaiP"
      },
      "execution_count": null,
      "outputs": []
    },
    {
      "cell_type": "code",
      "source": [
        "# Slicing\n",
        "language = 'Python'\n",
        "first_three = language[0:3] # starts at zero index and up to 3 but not include 3\n",
        "last_three = language[3:6]\n",
        "print(last_three) # hon\n",
        "# Another way\n",
        "last_three = language[-3:]\n",
        "print(last_three)   # hon\n",
        "last_three = language[3:]\n",
        "print(last_three)   # hon\n",
        "\n",
        "# Skipping character while splitting Python strings\n",
        "language = 'Python'\n",
        "pto = language[0:6:2] #\n",
        "print(pto) # pto"
      ],
      "metadata": {
        "id": "cyHZW73Cxg2_"
      },
      "execution_count": null,
      "outputs": []
    },
    {
      "cell_type": "code",
      "source": [
        "# Escape sequence\n",
        "print('I hope every one enjoying the python challenge.\\nDo you ?') # line break\n",
        "print('Days\\tTopics\\tExercises')\n",
        "print('Day 1\\t3\\t5')\n",
        "print('Day 2\\t3\\t5')\n",
        "print('Day 3\\t3\\t5')\n",
        "print('Day 4\\t3\\t5')\n",
        "print('This is a back slash  symbol (\\\\)') # To write a back slash\n",
        "print('In every programming language it starts with \\\"Hello, World!\\\"')"
      ],
      "metadata": {
        "id": "EsyRt2MzxoXf",
        "colab": {
          "base_uri": "https://localhost:8080/"
        },
        "outputId": "ec3537f2-7274-499b-abe0-a8ee0ac1ed2f"
      },
      "execution_count": null,
      "outputs": [
        {
          "output_type": "stream",
          "name": "stdout",
          "text": [
            "I hope every one enjoying the python challenge.\n",
            "Do you ?\n",
            "Days\tTopics\tExercises\n",
            "Day 1\t3\t5\n",
            "Day 2\t3\t5\n",
            "Day 3\t3\t5\n",
            "Day 4\t3\t5\n",
            "This is a back slash  symbol (\\)\n",
            "In every programming language it starts with \"Hello, World!\"\n"
          ]
        }
      ]
    },
    {
      "cell_type": "code",
      "source": [
        "## String Methods\n",
        "# capitalize(): Converts the first character the string to Capital Letter\n",
        "\n",
        "challenge = 'thirty days of python'\n",
        "print(challenge.capitalize()) # 'Thirty days of python'\n"
      ],
      "metadata": {
        "id": "2i0V77psyEWn"
      },
      "execution_count": null,
      "outputs": []
    },
    {
      "cell_type": "code",
      "source": [
        "# count(): returns occurrences of substring in string, count(substring, start=.., end=..)\n",
        "\n",
        "challenge = 'thirty days of python'\n",
        "print(challenge.count('y')) # 3\n",
        "print(challenge.count('y', 7, 14)) # 1\n",
        "print(challenge.count('th')) # 2`\n"
      ],
      "metadata": {
        "id": "6vnUk7P8yFav",
        "colab": {
          "base_uri": "https://localhost:8080/"
        },
        "outputId": "b852d2ac-15bf-49e2-f961-981b1a813fe0"
      },
      "execution_count": null,
      "outputs": [
        {
          "output_type": "stream",
          "name": "stdout",
          "text": [
            "3\n",
            "1\n",
            "2\n"
          ]
        }
      ]
    },
    {
      "cell_type": "code",
      "source": [
        "# endswith(): Checks if a string ends with a specified ending\n",
        "\n",
        "challenge = 'thirty days of python'\n",
        "print(challenge.endswith('on'))   # True\n",
        "print(challenge.endswith('tion')) # False"
      ],
      "metadata": {
        "id": "i4SkgwbzyQTf"
      },
      "execution_count": null,
      "outputs": []
    },
    {
      "cell_type": "code",
      "source": [
        "# expandtabs(): Replaces tab character with spaces, default tab size is 8. It takes tab size argument\n",
        "\n",
        "challenge = 'thirty\\tdays\\tof\\tpython'\n",
        "print(challenge.expandtabs())   # 'thirty  days    of      python'\n",
        "print(challenge.expandtabs(10)) # 'thirty    days      of        python'"
      ],
      "metadata": {
        "id": "fuMfRpdPyWZI"
      },
      "execution_count": null,
      "outputs": []
    },
    {
      "cell_type": "code",
      "source": [
        "# find(): Returns the index of first occurrence of substring\n",
        "\n",
        "challenge = 'thirty days of python'\n",
        "print(challenge.find('y'))  # 5\n",
        "print(challenge.find('th')) # 0"
      ],
      "metadata": {
        "id": "_70ziZwZyZw_",
        "colab": {
          "base_uri": "https://localhost:8080/"
        },
        "outputId": "a79514f5-a890-4f25-b812-1d61d84a0bfe"
      },
      "execution_count": null,
      "outputs": [
        {
          "output_type": "stream",
          "name": "stdout",
          "text": [
            "5\n",
            "0\n"
          ]
        }
      ]
    },
    {
      "cell_type": "code",
      "source": [
        "# format()\tformats string into nicer output\n",
        "first_name = 'Asabeneh'\n",
        "last_name = 'Yetayeh'\n",
        "job = 'teacher'\n",
        "country = 'Finland'\n",
        "sentence = 'I am {} {}. I am a {}. I live in {}.'.format(first_name, last_name, job, country)\n",
        "print(sentence) # I am Asabeneh Yetayeh. I am a teacher. I live in Finland.\n",
        "\n",
        "radius = 10\n",
        "pi = 3.14\n",
        "area = pi # radius ## 2\n",
        "result = 'The area of circle with {} is {}'.format(radius, area)\n",
        "print(result) # The area of circle with 10 is 314.0"
      ],
      "metadata": {
        "id": "fGxzjOu6ydVQ",
        "colab": {
          "base_uri": "https://localhost:8080/"
        },
        "outputId": "8ac96c65-ee59-4675-cacf-16304e70c733"
      },
      "execution_count": null,
      "outputs": [
        {
          "output_type": "stream",
          "name": "stdout",
          "text": [
            "I am Asabeneh Yetayeh. I am a teacher. I live in Finland.\n",
            "The area of circle with 10 is 3.14\n"
          ]
        }
      ]
    },
    {
      "cell_type": "code",
      "source": [
        "# index(): Returns the index of substring\n",
        "challenge = 'thirty days of python'\n",
        "print(challenge.find('y'))  # 5\n",
        "print(challenge.find('th')) # 0"
      ],
      "metadata": {
        "id": "yQCzD0WeynW4",
        "colab": {
          "base_uri": "https://localhost:8080/"
        },
        "outputId": "7cced9c2-f186-4209-bd63-96475a7dd3f2"
      },
      "execution_count": null,
      "outputs": [
        {
          "output_type": "stream",
          "name": "stdout",
          "text": [
            "5\n",
            "0\n"
          ]
        }
      ]
    },
    {
      "cell_type": "code",
      "source": [
        "# isalnum(): Checks alphanumeric character\n",
        "\n",
        "challenge = 'ThirtyDaysPython'\n",
        "print(challenge.isalnum()) # True\n",
        "\n",
        "challenge = '30DaysPython'\n",
        "print(challenge.isalnum()) # True\n",
        "\n",
        "challenge = 'thirty days of python'\n",
        "print(challenge.isalnum()) # False\n",
        "\n",
        "challenge = 'thirty days of python 2019'\n",
        "print(challenge.isalnum()) # False"
      ],
      "metadata": {
        "id": "MbRZDAQgysFn",
        "colab": {
          "base_uri": "https://localhost:8080/"
        },
        "outputId": "df688558-7c9b-4f15-9081-8ef65b7eb91a"
      },
      "execution_count": null,
      "outputs": [
        {
          "output_type": "stream",
          "name": "stdout",
          "text": [
            "True\n",
            "True\n",
            "False\n",
            "False\n"
          ]
        }
      ]
    },
    {
      "cell_type": "code",
      "source": [
        "# isalpha(): Checks if all characters are alphabets\n",
        "\n",
        "challenge = 'thirty days of python'\n",
        "print(challenge.isalpha()) # True\n",
        "num = '123'\n",
        "print(num.isalpha())      # False"
      ],
      "metadata": {
        "id": "138aVy9KywCn"
      },
      "execution_count": null,
      "outputs": []
    },
    {
      "cell_type": "code",
      "source": [
        "# isdigit(): Checks Digit Characters\n",
        "\n",
        "challenge = 'Thirty'\n",
        "print(challenge.isdigit()) # False\n",
        "challenge = '30'\n",
        "print(challenge.isdigit())   # True\n",
        "\n",
        "# isdecimal():Checks decimal characters\n",
        "\n",
        "num = '10'\n",
        "print(num.isdecimal()) # True\n",
        "num = '10.5'\n",
        "print(num.isdecimal()) # False\n"
      ],
      "metadata": {
        "id": "_gFQ0t91yxEQ",
        "colab": {
          "base_uri": "https://localhost:8080/"
        },
        "outputId": "94c9131d-96d2-41ad-d0c5-7d20439cf309"
      },
      "execution_count": null,
      "outputs": [
        {
          "output_type": "stream",
          "name": "stdout",
          "text": [
            "False\n",
            "True\n",
            "True\n",
            "False\n"
          ]
        }
      ]
    },
    {
      "cell_type": "code",
      "source": [
        "# isidentifier():Checks for valid identifier means it check if a string is a valid variable name\n",
        "\n",
        "challenge = '30DaysOfPython'\n",
        "print(challenge.isidentifier()) # False, because it starts with a number\n",
        "challenge = 'thirty_days_of_python'\n",
        "print(challenge.isidentifier()) # True\n",
        "\n",
        "\n",
        "# islower():Checks if all alphabets in a string are lowercase\n",
        "\n",
        "challenge = 'thirty days of python'\n",
        "print(challenge.islower()) # True\n",
        "challenge = 'Thirty days of python'\n",
        "print(challenge.islower()) # False\n",
        "\n",
        "# isupper(): returns if all characters are uppercase characters\n",
        "\n",
        "challenge = 'thirty days of python'\n",
        "print(challenge.isupper()) #  False\n",
        "challenge = 'THIRTY DAYS OF PYTHON'\n",
        "print(challenge.isupper()) # True"
      ],
      "metadata": {
        "id": "WKHk9zPdzDzw"
      },
      "execution_count": null,
      "outputs": []
    },
    {
      "cell_type": "code",
      "source": [
        "# isnumeric():Checks numeric characters\n",
        "\n",
        "num = '10'\n",
        "print(num.isnumeric())      # True\n",
        "print('ten'.isnumeric())    # False\n",
        "\n",
        "# join(): Returns a concatenated string\n",
        "\n",
        "web_tech = ['HTML', 'CSS', 'JavaScript', 'React']\n",
        "result = '#, '.join(web_tech)\n",
        "print(result) # 'HTML# CSS# JavaScript# React'\n",
        "\n",
        "# strip(): Removes both leading and trailing characters\n",
        "\n",
        "challenge = ' thirty days of python '\n",
        "print(challenge.strip('y')) # 5\n",
        "\n",
        "# replace(): Replaces substring inside\n",
        "\n",
        "challenge = 'thirty days of python'\n",
        "print(challenge.replace('python', 'coding')) # 'thirty days of coding'"
      ],
      "metadata": {
        "id": "AEx12s-0zNGQ",
        "colab": {
          "base_uri": "https://localhost:8080/"
        },
        "outputId": "81551f90-3331-449d-ba97-4800af3e7f7a"
      },
      "execution_count": null,
      "outputs": [
        {
          "output_type": "stream",
          "name": "stdout",
          "text": [
            "True\n",
            "False\n",
            "HTML#, CSS#, JavaScript#, React\n",
            " thirty days of python \n",
            "thirty days of coding\n"
          ]
        }
      ]
    },
    {
      "cell_type": "code",
      "source": [
        "# split():Splits String from Left\n",
        "\n",
        "challenge = 'thirty days of python'\n",
        "print(challenge.split()) # ['thirty', 'days', 'of', 'python']\n",
        "\n",
        "# title(): Returns a Title Cased String\n",
        "\n",
        "challenge = 'thirty days of python'\n",
        "print(challenge.title()) # Thirty Days Of Python\n",
        "\n",
        "# swapcase(): Checks if String Starts with the Specified String\n",
        "\n",
        "challenge = 'thirty days of python'\n",
        "print(challenge.swapcase())   # THIRTY DAYS OF PYTHON\n",
        "challenge = 'Thirty Days Of Python'\n",
        "print(challenge.swapcase())  # tHIRTY dAYS oF pYTHON\n",
        "\n",
        "# startswith(): Checks if String Starts with the Specified String\n",
        "\n",
        "challenge = 'thirty days of python'\n",
        "print(challenge.startswith('thirty')) # True\n",
        "challenge = '30 days of python'\n",
        "print(challenge.startswith('thirty')) # False"
      ],
      "metadata": {
        "id": "QF9mOEfEzQw3",
        "colab": {
          "base_uri": "https://localhost:8080/"
        },
        "outputId": "a63291c2-fbe4-4692-f670-22d66b5d0380"
      },
      "execution_count": null,
      "outputs": [
        {
          "output_type": "stream",
          "name": "stdout",
          "text": [
            "['thirty', 'days', 'of', 'python']\n",
            "Thirty Days Of Python\n",
            "THIRTY DAYS OF PYTHON\n",
            "tHIRTY dAYS oF pYTHON\n",
            "True\n",
            "False\n"
          ]
        }
      ]
    }
  ]
}